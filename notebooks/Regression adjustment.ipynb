{
 "cells": [
  {
   "cell_type": "code",
   "execution_count": 1,
   "id": "064538d3-2c08-474a-89f8-443e4c91f130",
   "metadata": {
    "colab": {
     "base_uri": "https://localhost:8080/"
    },
    "id": "064538d3-2c08-474a-89f8-443e4c91f130",
    "outputId": "da705ed9-04ff-4923-8960-fa034e806bec"
   },
   "outputs": [
    {
     "ename": "",
     "evalue": "",
     "output_type": "error",
     "traceback": [
      "\u001b[1;31mThe kernel failed to start as the Python Environment 'Python' is no longer available. Consider selecting another kernel or refreshing the list of Python Environments."
     ]
    }
   ],
   "source": [
    "# !conda install --y pandas\n",
    "# !conda install --y numpy\n",
    "# !pip install -q sweetviz\n",
    "# !pip install --quiet facets-overview"
   ]
  },
  {
   "cell_type": "markdown",
   "id": "7c144bff-3513-44ee-a3ae-40d86fe0c0d9",
   "metadata": {
    "id": "7c144bff-3513-44ee-a3ae-40d86fe0c0d9",
    "tags": []
   },
   "source": [
    "# 1. Getting Familiar with the Data"
   ]
  },
  {
   "cell_type": "markdown",
   "id": "0b7b9f02-a458-42c9-ab9a-ae3d60136992",
   "metadata": {
    "id": "0b7b9f02-a458-42c9-ab9a-ae3d60136992"
   },
   "source": [
    "**Importance to project**\n",
    "\n",
    "Having clean datasets that you trust is fundamental to causal inference. Causal inference is often counterintuitive, and when counterintuitive conclusions come up, it’s nice to be sure that it isn’t just some data bug crawling in. Trusting and understanding your data is an important step to save you time down the road."
   ]
  },
  {
   "cell_type": "markdown",
   "id": "31bfa99e-3bff-4799-a300-b1b3c4e596a0",
   "metadata": {
    "id": "31bfa99e-3bff-4799-a300-b1b3c4e596a0",
    "tags": []
   },
   "source": [
    "## 1.1 Dataset, Libraries, and Setup"
   ]
  },
  {
   "cell_type": "markdown",
   "id": "16f2ca2e-33ed-4022-a517-36a92d1573df",
   "metadata": {
    "id": "16f2ca2e-33ed-4022-a517-36a92d1573df",
    "tags": []
   },
   "source": [
    "## 1.2 Getting Familiar with the Data"
   ]
  },
  {
   "cell_type": "markdown",
   "id": "91ceea41-3591-41e7-8e0e-e61ae3ecb031",
   "metadata": {
    "id": "91ceea41-3591-41e7-8e0e-e61ae3ecb031"
   },
   "source": [
    "**Workflow**\n",
    "\n",
    "1. Use pandas to read non_rand_discount.csv into memory.\n",
    "2. Display the first few lines of the dataset.\n",
    "3. Check whether the data types are correct (no numeric data treated as strings).\n",
    "3. If they are not correct, convert data that should be of type numeric to the appropriate type.\n",
    "4. Look for nulls (missing entries) in your dataset. Nulls are problematic if present in the outcome (profit) or treatment variable (discount). If there aren’t nulls in any of these columns, it’s OK to proceed without addressing them."
   ]
  },
  {
   "cell_type": "markdown",
   "id": "443b5a8c-8b90-4df7-a061-2d285ea0b584",
   "metadata": {
    "id": "443b5a8c-8b90-4df7-a061-2d285ea0b584",
    "tags": []
   },
   "source": [
    "### 1.3 Read the data into a pandas dataframe"
   ]
  },
  {
   "cell_type": "markdown",
   "id": "649510d6-e0bd-4b7a-af93-01ccb8f70024",
   "metadata": {
    "id": "649510d6-e0bd-4b7a-af93-01ccb8f70024"
   },
   "source": [
    "1. Use pandas to read non_rand_discount.csv into memory.\n",
    "2. Display the first few lines of the dataset."
   ]
  },
  {
   "cell_type": "code",
   "execution_count": null,
   "id": "de44b6e0-6a3b-4fe7-87ed-86f7be5c133a",
   "metadata": {
    "colab": {
     "base_uri": "https://localhost:8080/",
     "height": 334
    },
    "id": "de44b6e0-6a3b-4fe7-87ed-86f7be5c133a",
    "outputId": "a27e47fb-e176-4ceb-aa3b-c3ce1a4a8231"
   },
   "outputs": [],
   "source": [
    "from IPython.display import display, HTML, Markdown\n",
    "import pandas as pd\n",
    "import toml\n",
    "import sys\n",
    "import os\n",
    "from pycaret.regression import pyc\n",
    "from pycaret.regression import setup\n",
    "from sklearn.impute import KNNImputer\n",
    "import seaborn as sns\n",
    "\n",
    "# Change the working directory to the root of the project\n",
    "while os.path.basename(os.getcwd()) != \"Causality\":\n",
    "    os.chdir(\"..\")\n",
    "\n",
    "# Load the configuration\n",
    "config = toml.load(\"config.toml\")\n",
    "\n",
    "# Add the source folder to the path\n",
    "sys.path.append(\"./causality\")\n",
    "from data import load_data\n",
    "\n",
    "# If the file does not exists download it\n",
    "if not os.path.exists(config[\"path\"][\"filename\"]):\n",
    "    data_raw = load_data(config=config)\n",
    "\n",
    "# Check if the file exists\n",
    "# destiny_file = f\"{config[\"path\"][\"data_raw\"]}/{config[\"path\"][\"filename\"]}\"\n",
    "\n",
    "# Load the data\n",
    "data_raw = pd.read_parquet(\"data/raw/non_rand_discount.parquet\")\n",
    "data_raw.sample(5)"
   ]
  },
  {
   "cell_type": "markdown",
   "id": "35cfc0a2-ab72-4d5e-a9b6-abbff3fc8152",
   "metadata": {
    "id": "35cfc0a2-ab72-4d5e-a9b6-abbff3fc8152",
    "tags": []
   },
   "source": [
    "### 1.3.1 Get familiar with the data"
   ]
  },
  {
   "cell_type": "code",
   "execution_count": null,
   "id": "d0ca96ce-624c-4d84-8525-f5edabcde12e",
   "metadata": {
    "colab": {
     "base_uri": "https://localhost:8080/",
     "height": 394
    },
    "id": "d0ca96ce-624c-4d84-8525-f5edabcde12e",
    "outputId": "fc6d87d7-9300-4235-d146-253cfe98ea18"
   },
   "outputs": [],
   "source": [
    "data_raw.describe()"
   ]
  },
  {
   "cell_type": "code",
   "execution_count": null,
   "id": "5626c02e-ac13-4130-b2b7-19ba95225abf",
   "metadata": {
    "colab": {
     "base_uri": "https://localhost:8080/",
     "height": 424
    },
    "id": "5626c02e-ac13-4130-b2b7-19ba95225abf",
    "outputId": "898b3133-dd86-4b66-e6fa-0ffb583b6e2c"
   },
   "outputs": [],
   "source": [
    "data_raw.select_dtypes('O')"
   ]
  },
  {
   "cell_type": "code",
   "execution_count": 61,
   "id": "AhGdp0c3Cqkm",
   "metadata": {
    "id": "AhGdp0c3Cqkm"
   },
   "outputs": [],
   "source": [
    "data_clean = data_raw\n",
    "data_clean.discount = data_clean['discount'].apply(lambda x: float(x.replace('US$ ','')))"
   ]
  },
  {
   "cell_type": "code",
   "execution_count": null,
   "id": "fd116973-a89e-4a45-bc0d-7c0cb19c27b9",
   "metadata": {
    "colab": {
     "base_uri": "https://localhost:8080/"
    },
    "id": "fd116973-a89e-4a45-bc0d-7c0cb19c27b9",
    "outputId": "5b371072-67e0-4ce4-8cf6-0598b84934bc"
   },
   "outputs": [],
   "source": [
    "data_raw.info()"
   ]
  },
  {
   "cell_type": "code",
   "execution_count": 63,
   "id": "aL0EolXKFpvY",
   "metadata": {
    "id": "aL0EolXKFpvY"
   },
   "outputs": [],
   "source": [
    "# Int\n",
    "cols_int_ls = [i[0] for i in (data_clean.dtypes==int).items() if i[1]==True]\n",
    "for column in cols_int_ls:\n",
    "    data_clean[column] = pd.to_numeric(data_clean[column], downcast=\"integer\")\n",
    "\n",
    "\n",
    "# Float\n",
    "float_cols_ls = [i[0] for i in (data_clean.dtypes==float).items() if i[1]==True]\n",
    "for column in float_cols_ls:\n",
    "    data_clean[column] = pd.to_numeric(data_clean[column], downcast=\"float\")"
   ]
  },
  {
   "cell_type": "code",
   "execution_count": 64,
   "id": "513aa22e-552e-4f8e-a6b2-5a4f187b8eb9",
   "metadata": {
    "id": "513aa22e-552e-4f8e-a6b2-5a4f187b8eb9",
    "tags": []
   },
   "outputs": [],
   "source": [
    "# import sweetviz as sv\n",
    "\n",
    "# my_report = sv.analyze(data_raw, target_feat ='sales')\n",
    "# my_report.show_html()"
   ]
  },
  {
   "cell_type": "markdown",
   "id": "2e890323-3aab-4367-8e32-87566c2b332c",
   "metadata": {
    "id": "2e890323-3aab-4367-8e32-87566c2b332c"
   },
   "source": [
    "### 1.3.2 Know what columns it has"
   ]
  },
  {
   "cell_type": "markdown",
   "id": "a509af02-11c5-4474-a986-0ba3d5aa8d08",
   "metadata": {
    "id": "a509af02-11c5-4474-a986-0ba3d5aa8d08"
   },
   "source": [
    "### 1.3.3 Check for missing variables"
   ]
  },
  {
   "cell_type": "code",
   "execution_count": null,
   "id": "a5f2376c-1c74-43e6-8b8e-e55d35a90482",
   "metadata": {
    "colab": {
     "base_uri": "https://localhost:8080/"
    },
    "id": "a5f2376c-1c74-43e6-8b8e-e55d35a90482",
    "outputId": "2ca513c0-bd78-45c7-d65a-c00466c2376b"
   },
   "outputs": [],
   "source": [
    "data_raw.isnull().sum()[data_raw.isnull().sum()>0]"
   ]
  },
  {
   "cell_type": "code",
   "execution_count": null,
   "id": "98c33d0b-7e39-4918-9d29-02c6695df24e",
   "metadata": {
    "colab": {
     "base_uri": "https://localhost:8080/"
    },
    "id": "98c33d0b-7e39-4918-9d29-02c6695df24e",
    "outputId": "5900da0b-51e7-4408-c1b7-2e9ab9a00dec"
   },
   "outputs": [],
   "source": [
    "(data_raw.isnull().sum()/data_raw.count())[data_raw.isnull().sum()>0]"
   ]
  },
  {
   "cell_type": "markdown",
   "id": "0d79b5f3-2216-40eb-89c1-c63bf944d64c",
   "metadata": {
    "id": "0d79b5f3-2216-40eb-89c1-c63bf944d64c"
   },
   "source": [
    "### 1.3.4 Clean the data for further use"
   ]
  },
  {
   "cell_type": "code",
   "execution_count": 68,
   "id": "cdc85bb4",
   "metadata": {},
   "outputs": [],
   "source": [
    "# Check if the variable __temp exists\n",
    "\n",
    "if \"__temp\" in locals():\n",
    "    __temp = data_raw.select_dtypes('O')  # Save the categorical columns\n",
    "data_raw = data_raw.drop(columns=[\"cust_state\"])  # Drop the categorical columns\n",
    "\n",
    "imputer = KNNImputer(n_neighbors=2)\n",
    "data_raw= pd.DataFrame(imputer.fit_transform(data_raw), columns = data_raw.columns)\n",
    "\n",
    "data_clean = data_raw.join(__temp)"
   ]
  },
  {
   "cell_type": "code",
   "execution_count": null,
   "id": "32697f9e-5692-4188-8939-16963d4197ae",
   "metadata": {
    "colab": {
     "base_uri": "https://localhost:8080/"
    },
    "id": "32697f9e-5692-4188-8939-16963d4197ae",
    "outputId": "09255171-8f7e-47c4-f5d6-2d638480f0ef"
   },
   "outputs": [],
   "source": [
    "data_clean = data_raw.dropna()\n",
    "\n",
    "data_train = data_clean.sample(frac=0.9, random_state=42)\n",
    "data_test = data_clean.drop(data_train.index)\n",
    "\n",
    "data_train.reset_index(drop=True, inplace=True)\n",
    "data_test.reset_index(drop=True, inplace=True)\n",
    "\n",
    "print('Data for Modeling: ' + str(data_train.shape))\n",
    "print('Unseen Data For Predictions: ' + str(data_test.shape))"
   ]
  },
  {
   "cell_type": "markdown",
   "id": "3f1a6dce-ef69-4fb8-b11d-450389ee0eda",
   "metadata": {
    "id": "3f1a6dce-ef69-4fb8-b11d-450389ee0eda",
    "tags": []
   },
   "source": [
    "# 2. Understanding the Treatment Assignment Mechanism"
   ]
  },
  {
   "cell_type": "markdown",
   "id": "bf153b20-0d87-4244-933b-db3445c61eff",
   "metadata": {
    "id": "bf153b20-0d87-4244-933b-db3445c61eff",
    "jp-MarkdownHeadingCollapsed": true,
    "tags": []
   },
   "source": [
    "## 2.1 Objective"
   ]
  },
  {
   "cell_type": "markdown",
   "id": "4c35f65d-0b19-417d-b3a7-996355a56ff1",
   "metadata": {
    "id": "4c35f65d-0b19-417d-b3a7-996355a56ff1",
    "tags": []
   },
   "source": [
    "- Understand the treatment assignment mechanism\n",
    "- Get acquainted with potential outcome notation"
   ]
  },
  {
   "cell_type": "markdown",
   "id": "53571b14-22fa-4574-8fd9-cfca5e788a92",
   "metadata": {
    "id": "53571b14-22fa-4574-8fd9-cfca5e788a92",
    "tags": []
   },
   "source": [
    "## 2.2 Importance to project"
   ]
  },
  {
   "cell_type": "markdown",
   "id": "c0241193-5ca0-41e6-9efc-d353162524e2",
   "metadata": {
    "id": "c0241193-5ca0-41e6-9efc-d353162524e2",
    "jp-MarkdownHeadingCollapsed": true,
    "tags": []
   },
   "source": [
    "A big part of causal inference is understanding the treatment assignment mechanism (who are we giving discounts to) so that we can know what sorts of bias might be lurking in our data. By the end of this milestone, you should have a basic idea about what customer profile receives more of a discount.\n",
    "\n",
    "One very well-known treatment assignment mechanism is random: we give discounts to different customers at random. That would be the best assignment mechanism to identify the causal effect of discounts on profits because customers with different discounts would be comparable to each other. In other words, the only thing that would change systematically across different discount levels would be the discount itself. We would then be able to isolate the effect of increasing discounts on profits very easily.\n",
    "\n",
    "However, random assignments are not always available. Developing randomized experiments is costly either in money or in time (or both). For instance, in our case with the e-commerce company, we know that discounts were not randomly assigned. This makes isolating the causal effect harder.\n",
    "\n",
    "For example, suppose that the discount does increase profits. But the e-commerce company gives more discounts to low-income customers (maybe because they are more willing to negotiate harder for lower prices), which, on average, generates fewer profits than high-income customers. Then, since we are giving more discount to less profitable customers, it will look like the relationship between discounts and profits is negative, even though discount increases profits.\n",
    "\n",
    "![img](https://github.com/matheusfacure/causal-inf-and-personalization-manning/blob/main/img/project1/income-bias.png?raw=true)\n",
    "\n",
    "Understanding the treatment assignment mechanism is so important that we can’t even make causal inference statements without also saying something about the treatment assignment mechanism. Some might even argue that once this step is done, causal inference is easy. Hence, it is only fair we start our causal inference analysis with understanding very well how the treatment was assigned.\n",
    "\n",
    "Note: To talk about the treatment assignment mechanism, we will use the language of potential outcomes. I strongly recommend you get familiar with it before starting this milestone. Refer to the reference materials for some quick resources to learn about it."
   ]
  },
  {
   "cell_type": "markdown",
   "id": "b792e485-8959-4c7e-a391-f41dd13be62d",
   "metadata": {
    "id": "b792e485-8959-4c7e-a391-f41dd13be62d"
   },
   "source": [
    "## 2.3 Workflow"
   ]
  },
  {
   "cell_type": "markdown",
   "id": "cb559356-19f6-42c6-9f78-508d86628157",
   "metadata": {
    "id": "cb559356-19f6-42c6-9f78-508d86628157"
   },
   "source": [
    "### 2.3.1 Exploring relation between discounts and profit"
   ]
  },
  {
   "cell_type": "markdown",
   "id": "7b811902-0c50-4b15-a5d7-43b5e2a9c336",
   "metadata": {
    "id": "7b811902-0c50-4b15-a5d7-43b5e2a9c336"
   },
   "source": [
    "1. This particular e-commerce company makes 5% on sales, so its revenues are `0.05 * Sales`. You can consider that its costs are mostly how much it gives in discounts. Hence, profitability is given by `5% * Sales - Discount`. Check how discount correlates with the outcomes.\n",
    "   - Use Seaborn or another plotting library to plot the relationship between discount and sales.\n",
    "   - Plot the relationship between discount and profits. Does profit increase or decrease with discount?"
   ]
  },
  {
   "cell_type": "code",
   "execution_count": null,
   "id": "EsLNDnNRwY55",
   "metadata": {
    "colab": {
     "base_uri": "https://localhost:8080/",
     "height": 617
    },
    "id": "EsLNDnNRwY55",
    "outputId": "311c7bdd-8fbe-4287-9b4c-8688988ea8e1"
   },
   "outputs": [],
   "source": [
    "# Display the Dive visualization for the training data.\n",
    "\n",
    "jsonstr = data_clean.to_json(orient='records')\n",
    "HTML_TEMPLATE = \"\"\"\n",
    "        <script src=\"https://cdnjs.cloudflare.com/ajax/libs/webcomponentsjs/1.3.3/webcomponents-lite.js\"></script>\n",
    "        <link rel=\"import\" href=\"https://raw.githubusercontent.com/PAIR-code/facets/1.0.0/facets-dist/facets-jupyter.html\">\n",
    "        <facets-dive id=\"elem\" height=\"600\"></facets-dive>\n",
    "        <script>\n",
    "          var data = {jsonstr};\n",
    "          document.querySelector(\"#elem\").data = data;\n",
    "        </script>\"\"\"\n",
    "html = HTML_TEMPLATE.format(jsonstr=jsonstr)\n",
    "display(HTML(html))"
   ]
  },
  {
   "cell_type": "markdown",
   "id": "7ae6e125-571d-4284-a6bf-70352bc52c8b",
   "metadata": {
    "id": "7ae6e125-571d-4284-a6bf-70352bc52c8b"
   },
   "source": [
    "### 2.3.2 Influencing variables"
   ]
  },
  {
   "cell_type": "markdown",
   "id": "3ae48fce-d8d5-4b99-9d39-4cd14adcd8a3",
   "metadata": {
    "id": "3ae48fce-d8d5-4b99-9d39-4cd14adcd8a3"
   },
   "source": [
    "2. We recall from the introduction that the e-commerce company allocates more discounts to customers with higher sales predictions, where sales predictions are given by their machine learning model. This means people with different discount levels are probably different in other dimensions as well.\n",
    "   - Plot the relationship between age and discount. Do older people get more or fewer discounts?\n",
    "   - Plot the relationship between customer state and discount. Do different states get different discounts?\n",
    "   - Plot the relationship between sales prediction and discount. Is the e-commerce company giving more discounts to those it expects to buy more?\n",
    "   - Plot the relationship between any other feature of your choice and discount. Can you learn more about how discounts were allocated?"
   ]
  },
  {
   "cell_type": "code",
   "execution_count": null,
   "id": "YrmC4zayrR78",
   "metadata": {
    "colab": {
     "base_uri": "https://localhost:8080/",
     "height": 507
    },
    "id": "YrmC4zayrR78",
    "outputId": "c11ede54-04d2-467d-add7-49c156035d73"
   },
   "outputs": [],
   "source": [
    "sns.set(rc={'figure.figsize':(21,11)})\n",
    "\n",
    "sns.violinplot(x=pd.qcut(data_clean.age, 10),\n",
    "               y='discount', \n",
    "               data=data_clean,\n",
    "               hue_order='discount')"
   ]
  },
  {
   "cell_type": "code",
   "execution_count": null,
   "id": "ZLR-NLUK2SkS",
   "metadata": {
    "colab": {
     "base_uri": "https://localhost:8080/",
     "height": 506
    },
    "id": "ZLR-NLUK2SkS",
    "outputId": "fcb64554-46e0-47a2-fac9-4187c98b39fd"
   },
   "outputs": [],
   "source": [
    "sns.set(rc={'figure.figsize':(21,11)})\n",
    "\n",
    "sns.violinplot(x='tenure',\n",
    "               y='discount', \n",
    "               data=data_clean,\n",
    "               hue_order='discount')"
   ]
  },
  {
   "cell_type": "code",
   "execution_count": null,
   "id": "663a0b4a-dad4-4f92-aa8b-0e293e1d6624",
   "metadata": {
    "colab": {
     "base_uri": "https://localhost:8080/",
     "height": 506
    },
    "id": "663a0b4a-dad4-4f92-aa8b-0e293e1d6624",
    "outputId": "6c2355de-4541-4f19-f47f-2886b1662d61"
   },
   "outputs": [],
   "source": [
    "sns.violinplot(x='cust_state', y='discount', \n",
    "               data=data_clean,\n",
    "               hue_order='discount')"
   ]
  },
  {
   "cell_type": "code",
   "execution_count": null,
   "id": "wNp2jRafscDB",
   "metadata": {
    "colab": {
     "base_uri": "https://localhost:8080/",
     "height": 507
    },
    "id": "wNp2jRafscDB",
    "outputId": "c0986c74-f0b4-4fa3-e388-2372cdb5f399"
   },
   "outputs": [],
   "source": [
    "sns.violinplot(x=pd.qcut(data_clean.sales_prediction, 10),\n",
    "               y='discount', \n",
    "               data=data_clean,\n",
    "               hue_order='discount')"
   ]
  },
  {
   "cell_type": "code",
   "execution_count": null,
   "id": "AKylX44ftyg-",
   "metadata": {
    "colab": {
     "base_uri": "https://localhost:8080/",
     "height": 504
    },
    "id": "AKylX44ftyg-",
    "outputId": "fe0eac94-c8b4-4ac7-dab4-a6b85571558d"
   },
   "outputs": [],
   "source": [
    "sns.scatterplot(x='sales',\n",
    "               y='sales_prediction', \n",
    "               hue='discount',\n",
    "               data=data_clean\n",
    "               )"
   ]
  },
  {
   "cell_type": "markdown",
   "id": "t0OZCqV_Uigi",
   "metadata": {
    "id": "t0OZCqV_Uigi"
   },
   "source": [
    "#### 2.3.2.1 Models"
   ]
  },
  {
   "cell_type": "code",
   "execution_count": null,
   "id": "iYV2mBQmBi3a",
   "metadata": {
    "colab": {
     "base_uri": "https://localhost:8080/",
     "height": 1000,
     "referenced_widgets": [
      "abad16c97fb44d9e9c485bcab41899d6",
      "404a8be0cc414195a4fbec53aee00b4a",
      "6ba175869f0b45009ea09ec0724b9459",
      "c3a500e759014dff94bd208af724772d",
      "57a032f8a9544d35b353e5c723ffd139",
      "1f54ac00c12b4a31be6bf5437e215018"
     ]
    },
    "id": "iYV2mBQmBi3a",
    "outputId": "98eec6f4-245d-4bef-f540-e171b80721f1"
   },
   "outputs": [],
   "source": [
    "#@markdown <p>The discount mechanism can be completely explained by *Sales* and *profit*. Probably there's some information leakage in the syntactical data generation process. Because when the discount is assigned the should be no knowledge of the sales output. </p>\n",
    "#@markdown <p>For this reason I explicitly removed the sales value from the training data.</p>\n",
    "target = 'discount'\n",
    "drop_cols = set([\n",
    "                 'sales', 'profit', # Data leakage\n",
    "                 'sales_prediction_bins'  # possible multicollinearity\n",
    "                 ])\n",
    "numeric_features = [i for i in cols_int_ls + float_cols_ls if i not in drop_cols.union([target])]\n",
    "\n",
    "exp_reg101 = pyc.setup(data = data_train.drop(columns=drop_cols), target = target, session_id=42,\n",
    "                   numeric_features = numeric_features)"
   ]
  },
  {
   "cell_type": "code",
   "execution_count": null,
   "id": "xDVt2sc_N7jO",
   "metadata": {
    "colab": {
     "base_uri": "https://localhost:8080/",
     "height": 614,
     "referenced_widgets": [
      "88b685efb7b44152b8ae7a67999041c7",
      "dc7b4f910e734271a400e4b6e17cc0c9",
      "c832ee08faf74e1db421528ddcf5a407"
     ]
    },
    "id": "xDVt2sc_N7jO",
    "outputId": "d1dfc929-7e2c-4d89-b1e0-2a6a5ea1d6ad"
   },
   "outputs": [],
   "source": [
    "best = pyc.compare_models(fold = 5, sort = 'RMSLE')"
   ]
  },
  {
   "cell_type": "code",
   "execution_count": null,
   "id": "WuLqtENgQfQV",
   "metadata": {
    "colab": {
     "base_uri": "https://localhost:8080/",
     "height": 457,
     "referenced_widgets": [
      "25cc56a1963c479ebacf343bcff12061",
      "92704e84f6f341389b63cb4c13fb44ed",
      "51be77d5f98c4647bfe45e6ff29d3797",
      "d14cc0e578ff48c9af07772ed0c3ee69",
      "337deb9485024f4b82fcd26e0902c09d",
      "4e423dfd1033418583d48fc4ebc6bd90",
      "4c69a561bda64b3a96af862153c23ece",
      "b66817f1fe9a434cbd46b93d7d7b4155",
      "5b7c5e5be74f459bae2c7706b86ac0e5",
      "1bd3c266970943e59d3916a8cc5006a9",
      "c39a09f803954011a2742a28990f504b",
      "60007055eb244459abde08ccd25d29f8",
      "54c58ee8ee5a4c5ab99cce8c171a1bb5",
      "85aaa9abce554f40af2891ecb6233149",
      "9190f38ecb444cdcb0b782d22af9aa60",
      "d6cd7181ef8841c2adc5a59d4cac3e23",
      "6a94ef156dfc44e8be02323ac2132cdb",
      "f9c3990f7d8c4406ad5caddb195f13e5",
      "7037401f94d04247aae345a0eac2929b",
      "32fcc40d39574de5a5a8aa3a9ea6e431",
      "e8337097dee14f6392d81baf2475e647",
      "c08766cbc87747c6a4b751aa820ea457",
      "ce2087972e36446f9b63c0f5bd5dc50f",
      "aba06d4bf73747b9b4d2fa0d1bb36d68",
      "31860cc21852431c97d8886a0985668f",
      "1f4c885c963f40a5aa4bce6464ebc565",
      "97d5cae588f44f6284f226beea9c7d59",
      "b75d21ce9d6b4ca3b74419f14ce1f195",
      "7583ff7591494c32beae51e72c783517",
      "15a04afd154d494e91f9d85fa944652f"
     ]
    },
    "id": "WuLqtENgQfQV",
    "outputId": "1923d693-6876-4f3e-f584-8be98f8cbce3"
   },
   "outputs": [],
   "source": [
    "models = {\n",
    "    \"lightgbm\" : create_model('lightgbm'),\n",
    "    \"br\" : create_model('br'),\n",
    "    \"ridge\" : create_model('ridge'),\n",
    "    \"lr\" : create_model('lr'),\n",
    "    \"lasso\" : create_model('lasso')\n",
    "}\n",
    "\n",
    "for model in models.keys():\n",
    "    models[model] = tune_model(models[model])"
   ]
  },
  {
   "cell_type": "markdown",
   "id": "XujAxUHTV4qM",
   "metadata": {
    "id": "XujAxUHTV4qM"
   },
   "source": [
    "##### Light GBM"
   ]
  },
  {
   "cell_type": "code",
   "execution_count": null,
   "id": "_wPG8gmAUEoH",
   "metadata": {
    "colab": {
     "base_uri": "https://localhost:8080/",
     "height": 376
    },
    "id": "_wPG8gmAUEoH",
    "outputId": "e72ebc72-156b-4b44-fb9a-1ee1c6444b0a"
   },
   "outputs": [],
   "source": [
    "plot_model(models['lightgbm'], plot='residuals')"
   ]
  },
  {
   "cell_type": "code",
   "execution_count": null,
   "id": "ffhB5ohVUbkG",
   "metadata": {
    "colab": {
     "base_uri": "https://localhost:8080/",
     "height": 378
    },
    "id": "ffhB5ohVUbkG",
    "outputId": "03ce5488-b2e5-48ba-87cb-d340801e101f"
   },
   "outputs": [],
   "source": [
    "plot_model(models['lightgbm'], plot = 'error')"
   ]
  },
  {
   "cell_type": "code",
   "execution_count": null,
   "id": "Xunqjh4JXbwF",
   "metadata": {
    "colab": {
     "base_uri": "https://localhost:8080/",
     "height": 478
    },
    "id": "Xunqjh4JXbwF",
    "outputId": "baaf95f8-fa60-46d4-b780-725fa7b2d1c4"
   },
   "outputs": [],
   "source": [
    "plot_model(models['lightgbm'], plot='feature')"
   ]
  },
  {
   "cell_type": "code",
   "execution_count": null,
   "id": "_oZeZ24qsCOI",
   "metadata": {
    "colab": {
     "base_uri": "https://localhost:8080/",
     "height": 366,
     "referenced_widgets": [
      "bac25f4b78ad4d508c76b047e0bafbc1",
      "2c9fe49e743b47b49405a7e3dd6df0fb",
      "3bb8093a3ca948f4b8b5bb800e12aaaa"
     ]
    },
    "id": "_oZeZ24qsCOI",
    "outputId": "b9e640f1-ef67-43f4-dc58-8b3607b36eed"
   },
   "outputs": [],
   "source": [
    "plot_model(models['lightgbm'], plot='manifold')"
   ]
  },
  {
   "cell_type": "markdown",
   "id": "b3V8TdcLWkMW",
   "metadata": {
    "id": "b3V8TdcLWkMW"
   },
   "source": [
    "##### Bayesian Ridge"
   ]
  },
  {
   "cell_type": "code",
   "execution_count": null,
   "id": "9ftb4PXBSHAM",
   "metadata": {
    "colab": {
     "base_uri": "https://localhost:8080/",
     "height": 376
    },
    "id": "9ftb4PXBSHAM",
    "outputId": "d43a1b1a-b31a-41a5-e636-14eb7d5405cb"
   },
   "outputs": [],
   "source": [
    "plot_model(models['br'])"
   ]
  },
  {
   "cell_type": "code",
   "execution_count": null,
   "id": "SwpEDP_yWsM4",
   "metadata": {
    "colab": {
     "base_uri": "https://localhost:8080/",
     "height": 378
    },
    "id": "SwpEDP_yWsM4",
    "outputId": "9bb58563-d68d-4efb-e721-3664c1dd34c6"
   },
   "outputs": [],
   "source": [
    "plot_model(models['br'], plot = 'error')"
   ]
  },
  {
   "cell_type": "code",
   "execution_count": null,
   "id": "0Xy4m_SPXm2A",
   "metadata": {
    "colab": {
     "base_uri": "https://localhost:8080/",
     "height": 478
    },
    "id": "0Xy4m_SPXm2A",
    "outputId": "0852cbdf-611b-4809-afa2-177dcf24cf38"
   },
   "outputs": [],
   "source": [
    "plot_model(models['br'], plot='feature')"
   ]
  },
  {
   "cell_type": "markdown",
   "id": "houkHfFqW08Y",
   "metadata": {
    "id": "houkHfFqW08Y"
   },
   "source": [
    "##### Ridge"
   ]
  },
  {
   "cell_type": "code",
   "execution_count": null,
   "id": "pmgbyVMNW3OI",
   "metadata": {
    "colab": {
     "base_uri": "https://localhost:8080/",
     "height": 376
    },
    "id": "pmgbyVMNW3OI",
    "outputId": "e3fda2b3-60aa-4bd0-89df-7b1cc690a6dd"
   },
   "outputs": [],
   "source": [
    "plot_model(models['ridge'])"
   ]
  },
  {
   "cell_type": "code",
   "execution_count": null,
   "id": "cvktFCKsW7JH",
   "metadata": {
    "colab": {
     "base_uri": "https://localhost:8080/",
     "height": 378
    },
    "id": "cvktFCKsW7JH",
    "outputId": "0b9e9342-a319-46f5-f466-8e9fa4127425"
   },
   "outputs": [],
   "source": [
    "plot_model(models['ridge'], plot = 'error')"
   ]
  },
  {
   "cell_type": "code",
   "execution_count": null,
   "id": "tDfgghWpXOuP",
   "metadata": {
    "colab": {
     "base_uri": "https://localhost:8080/",
     "height": 478
    },
    "id": "tDfgghWpXOuP",
    "outputId": "962793d4-3d5f-4e55-da14-a80b0785c2a9"
   },
   "outputs": [],
   "source": [
    "plot_model(models['ridge'], plot='feature')"
   ]
  },
  {
   "cell_type": "markdown",
   "id": "q65k93H5WAcV",
   "metadata": {
    "id": "q65k93H5WAcV"
   },
   "source": [
    "##### Lasso"
   ]
  },
  {
   "cell_type": "code",
   "execution_count": null,
   "id": "SLBa_2plUJsx",
   "metadata": {
    "colab": {
     "base_uri": "https://localhost:8080/",
     "height": 376
    },
    "id": "SLBa_2plUJsx",
    "outputId": "ab03bbc8-c1bf-4765-9e4c-7d4b09b7bedb"
   },
   "outputs": [],
   "source": [
    "plot_model(models['lasso'])"
   ]
  },
  {
   "cell_type": "code",
   "execution_count": null,
   "id": "5Y3gmHY8WG-d",
   "metadata": {
    "colab": {
     "base_uri": "https://localhost:8080/",
     "height": 378
    },
    "id": "5Y3gmHY8WG-d",
    "outputId": "aec38cfa-ad9b-48cd-d02e-2ae9e8a0c064"
   },
   "outputs": [],
   "source": [
    "plot_model(models['lasso'], plot = 'error')"
   ]
  },
  {
   "cell_type": "code",
   "execution_count": null,
   "id": "2TyLucXdXesu",
   "metadata": {
    "colab": {
     "base_uri": "https://localhost:8080/",
     "height": 478
    },
    "id": "2TyLucXdXesu",
    "outputId": "e3079176-0338-4d6c-848d-11a8a436a539"
   },
   "outputs": [],
   "source": [
    "plot_model(models['lasso'], plot='feature')"
   ]
  },
  {
   "cell_type": "markdown",
   "id": "3tU_ioV6VwFI",
   "metadata": {
    "id": "3tU_ioV6VwFI"
   },
   "source": [
    "##### Linear Regression"
   ]
  },
  {
   "cell_type": "code",
   "execution_count": null,
   "id": "KcRIFcQ8T9MT",
   "metadata": {
    "colab": {
     "base_uri": "https://localhost:8080/",
     "height": 376
    },
    "id": "KcRIFcQ8T9MT",
    "outputId": "86850bb1-72d3-4a98-c21c-ce20a95b10da"
   },
   "outputs": [],
   "source": [
    "plot_model(models['lr'])"
   ]
  },
  {
   "cell_type": "code",
   "execution_count": null,
   "id": "0uTcR5i7UW3v",
   "metadata": {
    "colab": {
     "base_uri": "https://localhost:8080/",
     "height": 378
    },
    "id": "0uTcR5i7UW3v",
    "outputId": "b1da00a4-2dc5-4a1f-892b-77e80d2d7887"
   },
   "outputs": [],
   "source": [
    "plot_model(models['lr'], plot = 'error')"
   ]
  },
  {
   "cell_type": "code",
   "execution_count": null,
   "id": "I2MsTCfFXTw6",
   "metadata": {
    "colab": {
     "base_uri": "https://localhost:8080/",
     "height": 478
    },
    "id": "I2MsTCfFXTw6",
    "outputId": "5df442b8-4d24-4131-fe57-7ae2a217eb6c"
   },
   "outputs": [],
   "source": [
    "plot_model(models['lr'], plot='feature')"
   ]
  },
  {
   "cell_type": "code",
   "execution_count": null,
   "id": "5VAhh3-D0jFL",
   "metadata": {
    "colab": {
     "base_uri": "https://localhost:8080/",
     "height": 366,
     "referenced_widgets": [
      "7d2cea7f74054170aceb78c2851fb0ca",
      "0b28d929dbf34499a9c78ae688a3dfee",
      "131581e6c97546f3b8308131e52e4a11"
     ]
    },
    "id": "5VAhh3-D0jFL",
    "outputId": "bf151da9-a909-4d11-f5e9-4a2e3011c55c"
   },
   "outputs": [],
   "source": [
    "plot_model(models['lr'], plot = 'manifold')"
   ]
  },
  {
   "cell_type": "markdown",
   "id": "gJtqMiwSX5za",
   "metadata": {
    "id": "gJtqMiwSX5za"
   },
   "source": [
    "### 2.3.3 The E-Commerce Company's Treatment Allocation Mechanism"
   ]
  },
  {
   "cell_type": "markdown",
   "id": "15d18353-16d1-4028-b77d-a4d3396052a1",
   "metadata": {
    "id": "15d18353-16d1-4028-b77d-a4d3396052a1"
   },
   "source": [
    "3. From what we saw on the plots in the previous step, it looks like sales prediction is a big driver of discounts. In other words, the treatment assignment mechanism is given primarily by sales prediction. As it turns out, this e-commerce company has a machine learning (ML) model that estimates how much customers will buy (sales prediction), and it uses that model to allocate more discounts to those customers that are expected to buy the most. That is why we see a high degree of correlation between discount and sales prediction. Also, since this ML model uses as input sales information such as age and purchase history, other features can also be correlated with discount. In the industry, allocating treatment according to some model is a very common practice, so when we start a causal inference project and want to learn about the treatment assignment mechanism, we can either explore like we did here or talk to those involved in the allocation of the treatment to understand how it was assigned.\n",
    ">Note: This last strategy is not always available, as the developers that dealt with the treatment allocation can have forgotten the details or even left the company."
   ]
  },
  {
   "cell_type": "markdown",
   "id": "3f97bcb3-5275-4bdb-aeb2-2c8d68727c02",
   "metadata": {
    "id": "3f97bcb3-5275-4bdb-aeb2-2c8d68727c02"
   },
   "source": [
    "- Now that we have a clearer picture of the treatment allocation, use Seaborn to plot the relationship between profits and discount (as in Step 1), adding a color dimension, which is `sales_prediction_bins`. This plot should resemble the one with high and low income that we covered in the **Importance to project** section. Can you make an argument similar to how discount influences profits?\n"
   ]
  },
  {
   "cell_type": "code",
   "execution_count": null,
   "id": "6732ad72-6abe-4f67-b066-9ba2a4fd08ea",
   "metadata": {
    "colab": {
     "base_uri": "https://localhost:8080/",
     "height": 686
    },
    "id": "6732ad72-6abe-4f67-b066-9ba2a4fd08ea",
    "outputId": "e72853aa-67f2-4114-8227-646d3d7675d7"
   },
   "outputs": [],
   "source": [
    "sns.set(rc={'figure.figsize':(21,11)})\n",
    "\n",
    "sns.violinplot(x=pd.qcut(data_clean.sales, 10),\n",
    "               y='discount', \n",
    "               data=data_clean,\n",
    "               hue_order='discount')"
   ]
  },
  {
   "cell_type": "code",
   "execution_count": null,
   "id": "BARF1NLws2E3",
   "metadata": {
    "colab": {
     "base_uri": "https://localhost:8080/",
     "height": 686
    },
    "id": "BARF1NLws2E3",
    "outputId": "f3ec09a5-fde0-438d-8f3d-6e43f727f0ad"
   },
   "outputs": [],
   "source": [
    "sns.set(rc={'figure.figsize':(21,11)})\n",
    "\n",
    "sns.scatterplot(x='sales',\n",
    "               y='profit', \n",
    "               hue='discount',\n",
    "               data=data_clean\n",
    "               )"
   ]
  },
  {
   "cell_type": "markdown",
   "id": "0KOgiXJrYuPS",
   "metadata": {
    "id": "0KOgiXJrYuPS"
   },
   "source": [
    "### 2.3.4 Describing Customers with Potential Outcomes"
   ]
  },
  {
   "cell_type": "markdown",
   "id": "1b59ae54-8f82-4d91-9e9f-b906b66f9eeb",
   "metadata": {
    "id": "1b59ae54-8f82-4d91-9e9f-b906b66f9eeb"
   },
   "source": [
    "4. By now, you probably have a good idea of the difference between customers with high and low discount levels (the former have high sales prediction and the latter have low). Now let’s see how we can use potential outcomes (PO) to describe these customers. Potential outcomes tell us what outcome (profits) a customer would have under different levels of the treatment (discount). Here is an example of how to use them. For simplicity’s sake, suppose discounts are a binary treatment, taking a value of low or high.\n",
    "\n",
    "![img](https://github.com/matheusfacure/causal-inf-and-personalization-manning/blob/main/img/project1/po.png?raw=true)\n",
    "\n",
    "For customers that received a low discount `(T=low or 0)`, we would observe the low discount potential outcome `Y(0)`. This is denoted by the dark blue dots above. But the high discount potential outcome `Y(1)` would also be defined; we just wouldn’t be able to see it. `Y(1)` for the low discount customers would tell us what profits (outcome) the low discount customer would have generated had they received high discounts. This is denoted by the light red dots in the image above. Notice that the potential outcome `Y(1)|T=low` is counterfactual, meaning we cannot see it, while `Y(0)|T=low` is factual, meaning that the potential outcome is the outcome we can observe: `Y(0)=Y` when `T=0`. In contrast, when we look at the high discount group, we can see `Y(1)` (dark red), but `Y(0)` is counterfactual. Of course, this is just an illustration. Knowing what you now know about the data, what can we say about the potential outcomes of customers with high and low discounts?"
   ]
  },
  {
   "cell_type": "code",
   "execution_count": 43,
   "id": "BmRJ9c8EsmI6",
   "metadata": {
    "id": "BmRJ9c8EsmI6"
   },
   "outputs": [],
   "source": [
    "data_extra=data_clean.assign(highDiscount = data_clean.discount>80)"
   ]
  },
  {
   "cell_type": "code",
   "execution_count": null,
   "id": "pXjD_4qBsoXL",
   "metadata": {
    "colab": {
     "base_uri": "https://localhost:8080/",
     "height": 686
    },
    "id": "pXjD_4qBsoXL",
    "outputId": "5759ef5f-0cf0-4991-cfe9-e5a03a703803"
   },
   "outputs": [],
   "source": [
    "sns.set(rc={'figure.figsize':(21,11)})\n",
    "\n",
    "sns.boxplot(x=pd.qcut(data_extra['sales_prediction'],6)\n",
    "               , y='profit'\n",
    "               , data=data_extra\n",
    "               , hue='highDiscount'\n",
    "               )"
   ]
  },
  {
   "cell_type": "code",
   "execution_count": null,
   "id": "6badfe17-c0ca-4945-bafc-fc75c1906b0b",
   "metadata": {
    "colab": {
     "base_uri": "https://localhost:8080/",
     "height": 686
    },
    "id": "6badfe17-c0ca-4945-bafc-fc75c1906b0b",
    "outputId": "6e06daba-5c56-4db1-c2b5-2cb9e383599f"
   },
   "outputs": [],
   "source": [
    "sns.set(rc={'figure.figsize':(21,11)})\n",
    "\n",
    "sns.boxplot(x=pd.qcut(data_extra['sales'],6)\n",
    "               , y='profit'\n",
    "               , data=data_extra\n",
    "               , hue='highDiscount'\n",
    "               )"
   ]
  },
  {
   "cell_type": "code",
   "execution_count": null,
   "id": "QizKAbUW2wY6",
   "metadata": {
    "colab": {
     "base_uri": "https://localhost:8080/",
     "height": 669
    },
    "id": "QizKAbUW2wY6",
    "outputId": "fadaedd5-40c7-4a91-e201-da92be14d6b8"
   },
   "outputs": [],
   "source": [
    "ax = sns.barplot(x = 'highDiscount'\n",
    "               , y = 'profit'\n",
    "               , data = data_extra\n",
    "            #    , hue = 'highDiscount'\n",
    "               )"
   ]
  },
  {
   "cell_type": "code",
   "execution_count": null,
   "id": "JvojzGEsw8NP",
   "metadata": {
    "colab": {
     "base_uri": "https://localhost:8080/",
     "height": 686
    },
    "id": "JvojzGEsw8NP",
    "outputId": "b66c8c08-1c09-439b-f501-3a7ad5f499cf"
   },
   "outputs": [],
   "source": [
    "ax = sns.swarmplot(x=pd.qcut(data_extra['sales'],6)\n",
    "               , y='profit'\n",
    "               , data=data_extra\n",
    "               , hue='highDiscount'\n",
    "            #    , split=True\n",
    "            #    , inner=\"points\"\n",
    "            #    , bw=.4\n",
    "               )\n",
    "\n",
    "ax.set(ylabel=\"\")"
   ]
  },
  {
   "cell_type": "markdown",
   "id": "ziBaeTzNYzXd",
   "metadata": {
    "id": "ziBaeTzNYzXd"
   },
   "source": [
    "### 2.4 Section Summary"
   ]
  },
  {
   "cell_type": "markdown",
   "id": "18773a09-85f6-4d84-a284-a5d70a148095",
   "metadata": {
    "id": "18773a09-85f6-4d84-a284-a5d70a148095"
   },
   "source": [
    "This Jupyter notebook explores how the treatment (discount) was assigned and what that means in terms of potential outcomes of customers with high and low discount levels.\n",
    "\n",
    "- Who do you think receives more discounts?\n",
    "\n",
    "- And what type of customer receives less discount?"
   ]
  },
  {
   "cell_type": "markdown",
   "id": "69ccb500-325d-48d1-b6dd-68b9acb03985",
   "metadata": {
    "id": "69ccb500-325d-48d1-b6dd-68b9acb03985",
    "pycharm": {
     "name": "#%% md\n"
    }
   },
   "source": [
    "This notebook shows how the discount mechanism works.\n",
    "\n"
   ]
  },
  {
   "cell_type": "markdown",
   "id": "TFz3cuiG0tr2",
   "metadata": {
    "id": "TFz3cuiG0tr2"
   },
   "source": [
    "# 3 Confounding Bias"
   ]
  },
  {
   "cell_type": "code",
   "execution_count": 48,
   "id": "qW1p8NCm8bh7",
   "metadata": {
    "id": "qW1p8NCm8bh7"
   },
   "outputs": [],
   "source": [
    "import statsmodels.api as sm\n",
    "import statsmodels.formula.api as smf\n",
    "from patsy import dmatrices"
   ]
  },
  {
   "cell_type": "markdown",
   "id": "4CDRwd1W2xNC",
   "metadata": {
    "id": "4CDRwd1W2xNC"
   },
   "source": [
    "## 3.1 Simple relations"
   ]
  },
  {
   "cell_type": "markdown",
   "id": "4sqAX4728riM",
   "metadata": {
    "id": "4sqAX4728riM"
   },
   "source": [
    "### sales ~ discount"
   ]
  },
  {
   "cell_type": "code",
   "execution_count": null,
   "id": "VMoToVez07yP",
   "metadata": {
    "colab": {
     "base_uri": "https://localhost:8080/",
     "height": 452
    },
    "id": "VMoToVez07yP",
    "outputId": "116530a0-615a-4afa-b277-53c5c0adf7c6"
   },
   "outputs": [],
   "source": [
    "y, X = dmatrices('sales ~ discount', data=data_clean, return_type='dataframe')\n",
    "mod = sm.OLS(y, X)\n",
    "\n",
    "res = {'s__d':\n",
    "       {\n",
    "           'model': mod.fit(),\n",
    "           'description': \"Sales given by discount\",\n",
    "           'formula': \"sales ~ discount\"\n",
    "           }\n",
    "       }\n",
    "res['s__d']['model'].summary()"
   ]
  },
  {
   "cell_type": "code",
   "execution_count": null,
   "id": "xMjBcVaZ9kGZ",
   "metadata": {
    "colab": {
     "base_uri": "https://localhost:8080/",
     "height": 485
    },
    "id": "xMjBcVaZ9kGZ",
    "outputId": "72c648f5-916b-4024-9475-aaf615e206f3"
   },
   "outputs": [],
   "source": [
    "fig = sm.graphics.plot_partregress_grid(res['s__d']['model'])\n",
    "fig.tight_layout(pad=1.0)"
   ]
  },
  {
   "cell_type": "code",
   "execution_count": null,
   "id": "MeqISRqwDAAz",
   "metadata": {
    "colab": {
     "base_uri": "https://localhost:8080/",
     "height": 112
    },
    "id": "MeqISRqwDAAz",
    "outputId": "d9e851f4-20e9-4766-df1b-c14c70aa6a1f"
   },
   "outputs": [],
   "source": [
    "data_clean[['sales', 'discount']].corr()"
   ]
  },
  {
   "cell_type": "markdown",
   "id": "TuOC_3rJ8o_v",
   "metadata": {
    "id": "TuOC_3rJ8o_v"
   },
   "source": [
    "### profit ~ discount"
   ]
  },
  {
   "cell_type": "code",
   "execution_count": null,
   "id": "QDNSw8HM1uEs",
   "metadata": {
    "colab": {
     "base_uri": "https://localhost:8080/"
    },
    "id": "QDNSw8HM1uEs",
    "outputId": "a272ad26-a96c-489e-80a4-e97ba4ce63a8"
   },
   "outputs": [],
   "source": [
    "mod = smf.ols(formula='profit ~ discount', data=data_clean)  # Profit discount\n",
    "res['p__d'] = {\n",
    "    'model' : mod.fit(),\n",
    "    'formula' : \"profit ~ discount\"\n",
    "}\n",
    "\n",
    "res['p__d']['model'].summary()"
   ]
  },
  {
   "cell_type": "code",
   "execution_count": null,
   "id": "-nPouxLk9eOC",
   "metadata": {
    "colab": {
     "base_uri": "https://localhost:8080/"
    },
    "id": "-nPouxLk9eOC",
    "outputId": "113884ad-bf75-44bc-bd91-833594eab10f"
   },
   "outputs": [],
   "source": [
    "fig = sm.graphics.plot_partregress_grid(res['p__d']['model'])\n",
    "fig.tight_layout(pad=1.0)"
   ]
  },
  {
   "cell_type": "code",
   "execution_count": null,
   "id": "lnX9u38tD5Cv",
   "metadata": {
    "colab": {
     "base_uri": "https://localhost:8080/"
    },
    "id": "lnX9u38tD5Cv",
    "outputId": "a20554c0-72f8-4312-e61e-67b259086620"
   },
   "outputs": [],
   "source": [
    "data_clean[['profit', 'discount']].corr()"
   ]
  },
  {
   "cell_type": "markdown",
   "id": "JNLg_Ro5J3hv",
   "metadata": {
    "id": "JNLg_Ro5J3hv"
   },
   "source": [
    "## 3.2\n",
    "By how much do we expect sales and profit to change (increase or decrease) for each additional unit of discount? Is this in line with the plot you saw earlier?"
   ]
  },
  {
   "cell_type": "markdown",
   "id": "Tzl7_waw5BOb",
   "metadata": {
    "id": "Tzl7_waw5BOb"
   },
   "source": [
    "## 3.3 Relation model:\n",
    "discount ~ sales_prediction + age"
   ]
  },
  {
   "cell_type": "code",
   "execution_count": null,
   "id": "0xuz1ISn3Q7R",
   "metadata": {
    "colab": {
     "base_uri": "https://localhost:8080/"
    },
    "id": "0xuz1ISn3Q7R",
    "outputId": "745fd1b9-4c51-41c5-af1a-dcbdda3528d0"
   },
   "outputs": [],
   "source": [
    "mod = smf.ols(formula='discount ~ sales_prediction + age', data=data_clean)  # Profit discount\n",
    "res['p__sp_a'] = {\n",
    "    'model' : mod.fit(),\n",
    "    'formula' : \"profit ~ discount\"\n",
    "}\n",
    "res['p__sp_a']['model'].summary()"
   ]
  },
  {
   "cell_type": "code",
   "execution_count": null,
   "id": "wg_8n9Wf9sud",
   "metadata": {
    "colab": {
     "base_uri": "https://localhost:8080/"
    },
    "id": "wg_8n9Wf9sud",
    "outputId": "25fee8d2-0572-4049-daa8-b9049f82d52b"
   },
   "outputs": [],
   "source": [
    "fig = sm.graphics.plot_partregress_grid(res['p__sp_a']['model'])\n",
    "fig.tight_layout(pad=1.0)"
   ]
  },
  {
   "cell_type": "markdown",
   "id": "UIOsi3-u7_--",
   "metadata": {
    "id": "UIOsi3-u7_--"
   },
   "source": [
    "## 3.4 Questions"
   ]
  },
  {
   "cell_type": "markdown",
   "id": "1djHYl7S7zuk",
   "metadata": {
    "id": "1djHYl7S7zuk"
   },
   "source": [
    "Based on what you know about the potential outcomes of customers with high and low discounts.\n",
    "\n",
    "1. What can you say about the relationship between discounts and profits?"
   ]
  },
  {
   "cell_type": "markdown",
   "id": "2xCodWOt-ZxX",
   "metadata": {
    "id": "2xCodWOt-ZxX"
   },
   "source": [
    "$$profits = 39.3178 + 0.0753*discount$$\n",
    "\n",
    "There's a clear but small relationship between `discounts` and `profits`. What is critical to mention is that a kit if customers have a negative profit as there might have small sales with big discounts. Affecting our overall discount performance. We observe something similar when we introduce `sale prediction` and `discount`."
   ]
  },
  {
   "cell_type": "markdown",
   "id": "ftoZaVqR8Fsi",
   "metadata": {
    "id": "ftoZaVqR8Fsi"
   },
   "source": [
    "2. Can we interpret that relationship as causal? If not, why?"
   ]
  },
  {
   "cell_type": "markdown",
   "id": "PyYYX_NR_zAQ",
   "metadata": {
    "id": "PyYYX_NR_zAQ"
   },
   "source": [
    "No because the relationship between discount and profits is quite small, many customers generated negative profit and thus, it's probable that the customers generating huge profits would have generated a big profit anyhow, as when you go buy something and it's in offer. You were going to purchase it anyhow but since it's in offer you saved some cash."
   ]
  },
  {
   "cell_type": "markdown",
   "id": "HiFEx7Tv8HNB",
   "metadata": {
    "id": "HiFEx7Tv8HNB"
   },
   "source": [
    "3. Identify how the correlation between discount and profitability is different from the causal effect of discount of profitability. Is this bias negative or positive?"
   ]
  },
  {
   "cell_type": "markdown",
   "id": "m1ATePOiAMg7",
   "metadata": {
    "id": "m1ATePOiAMg7"
   },
   "source": [
    "The correlation relation is `0.141303`\n",
    "The coeficient for the linear regression is `0.0753` when the intersect is about 40. This meant that by default the clients got a **40%** and the profit had little to do with it."
   ]
  },
  {
   "cell_type": "code",
   "execution_count": null,
   "id": "hHVIAg9XFqAR",
   "metadata": {
    "colab": {
     "base_uri": "https://localhost:8080/"
    },
    "id": "hHVIAg9XFqAR",
    "outputId": "0348c060-aee9-4e42-a478-0e1caafb3f58"
   },
   "outputs": [],
   "source": [
    "len(data_clean[data_clean.discount==0])/len(data_clean)"
   ]
  },
  {
   "cell_type": "markdown",
   "id": "50WLEX6uH42Q",
   "metadata": {
    "id": "50WLEX6uH42Q"
   },
   "source": [
    "This was because only `2.7135%` of the clients did not recive a discount. the other `97%` got a discount in average of `$ 80` which meant translated into an average loss."
   ]
  },
  {
   "cell_type": "code",
   "execution_count": null,
   "id": "G8lbfflxGhg2",
   "metadata": {
    "colab": {
     "base_uri": "https://localhost:8080/",
     "height": 394
    },
    "id": "G8lbfflxGhg2",
    "outputId": "44a9f284-8676-4406-97e5-f4a815e32beb"
   },
   "outputs": [],
   "source": [
    "data_clean[data_clean.discount>0].describe()"
   ]
  },
  {
   "cell_type": "code",
   "execution_count": null,
   "id": "Ie-D7WbkG-tG",
   "metadata": {
    "colab": {
     "base_uri": "https://localhost:8080/",
     "height": 394
    },
    "id": "Ie-D7WbkG-tG",
    "outputId": "758e7999-2237-4b25-a101-40884f062978"
   },
   "outputs": [],
   "source": [
    "data_clean[data_clean.discount==0].describe()"
   ]
  },
  {
   "cell_type": "markdown",
   "id": "HXBUDmFWHtS3",
   "metadata": {
    "id": "HXBUDmFWHtS3"
   },
   "source": [
    "We can further observe this with our model\n",
    "$$discount ~ sales\\_prediction + age$$\n",
    "\n",
    "Once we train an OLS model on it we realize that we part from the assumption of giving a discount.\n",
    "\n",
    "$$discount = -103.1282 + 0.1024*sales\\_prediction + 2.0833*age$$\n",
    "\n",
    "Where we observe that age is more important than sale prediction to predict the discount when it should be the other way around.\n",
    "\n",
    "One way to fix this could have been having a minimum sale value."
   ]
  },
  {
   "cell_type": "markdown",
   "id": "bX5CbSjAJukR",
   "metadata": {
    "id": "bX5CbSjAJukR"
   },
   "source": [
    "## 3.5 Causal graph"
   ]
  },
  {
   "cell_type": "markdown",
   "id": "R32OjiwcJanN",
   "metadata": {
    "id": "R32OjiwcJanN"
   },
   "source": [
    "Since discounts were not randomly assigned and potential outcome Y(0) is different across different discount levels, we can say that there is confounding bias in the relationship between discounts and profits. Draw a causal graph that is in line with our understanding of the bias in this relationship. You can use the Python library graphviz if you want. Or simply draw the graph on PowerPoint or Google Slides."
   ]
  },
  {
   "cell_type": "code",
   "execution_count": null,
   "id": "_qoctkazKHxi",
   "metadata": {
    "colab": {
     "base_uri": "https://localhost:8080/",
     "height": 368
    },
    "id": "_qoctkazKHxi",
    "outputId": "80fd807d-c94b-4cdc-9c50-7fc4333caf89"
   },
   "outputs": [],
   "source": [
    "import graphviz as gr\n",
    "\n",
    "g = gr.Digraph()\n",
    "\n",
    "g.edge(\"sales_prediction\", \"discount\")\n",
    "g.edge(\"Tenure\", \"discount\")\n",
    "g.edge(\"age\", \"discount\")\n",
    "\n",
    "# g.edge(\"age\", \"Tenure\")\n",
    "\n",
    "g.edge(\"discount\", \"sale\")\n",
    "g.edge(\"age\", \"sale\")\n",
    "\n",
    "g.edge(\"sale\", \"profit\")\n",
    "\n",
    "g"
   ]
  },
  {
   "cell_type": "markdown",
   "id": "f182551a-35df-43c7-8ac5-8191149cec35",
   "metadata": {},
   "source": [
    "# 4 Adjustment formula"
   ]
  },
  {
   "cell_type": "markdown",
   "id": "ec168256-8fc5-41d0-a409-2cd8ef9b74d5",
   "metadata": {},
   "source": [
    "## Workflow"
   ]
  },
  {
   "cell_type": "markdown",
   "id": "a2da28bd-90e3-42bc-b9e0-df789ff84978",
   "metadata": {},
   "source": [
    " 1. Using Seaborn, plot the regression line between discount and profits alongside the scatterplot (like in the image above). Notice customers with high sales_prediction_bins got more discounts. This is a key factor in biasing our data. Ideally, discounts would be randomized and we would get all discount levels equally distributed along the sales_prediction_bins spectrum."
   ]
  },
  {
   "cell_type": "code",
   "execution_count": null,
   "id": "8c556bb5-8ecd-4248-b03a-1c17728929fd",
   "metadata": {},
   "outputs": [],
   "source": [
    "import matplotlib.pyplot as plt\n",
    "plt.figure(figsize=(15,8))\n",
    "\n",
    "sns.scatterplot(data=data_clean, x=\"discount\", y=\"profit\", hue=\"sales_prediction_bins\")\n",
    "sns.regplot(data=data_clean, x=\"discount\", y=\"profit\", scatter=False)\n",
    "plt.ylim(-20, 200);"
   ]
  },
  {
   "cell_type": "markdown",
   "id": "6886fa54-e01c-4f75-9191-f6559fcf2559",
   "metadata": {},
   "source": [
    " 2. We don’t have randomized discounts, but linear regression can be used to make the discount data look as good as randomly assigned. As shown by the FWL theorem, regression has partially out properties that allow us to estimate what would happen to profits if we increased the discount while keeping other variables as sales_prediction_bins fixed. Don’t worry if it is still not clear how all of this works. We will break it down into the following steps:\n",
    "- Use statsmodels to regress discount on sales_prediction_bins. Remember to treat sales_prediction_bins as a categorical variable: \"discount~C(sales_prediction_bins)\".\n",
    "- Create a new dataframe df_discount_res that is the original one plus a column with the above model’s discount residual, plus the discount average df[\"discount\"] - prediction + df[\"discount\"].mean()."
   ]
  },
  {
   "cell_type": "code",
   "execution_count": null,
   "id": "541b5281-32a7-4fe6-84b5-81ca6da169a9",
   "metadata": {},
   "outputs": [],
   "source": [
    "mod = smf.ols(\"discount~C(sales_prediction_bins)\", data=data_clean)  # Discount profit\n",
    "res['d__spb'] = {\n",
    "    'model' : mod.fit(),\n",
    "    'formula' : \"discount~C(sales_prediction_bins)\"\n",
    "}\n",
    "\n",
    "df_res = data_clean.assign(discount_res = model_discount.resid + data_clean[\"discount\"].mean())\n",
    "\n",
    "res['d__spb']['model'].summary()"
   ]
  },
  {
   "cell_type": "markdown",
   "id": "a4ccb516-abfc-4f66-bda7-6dc25bc4d33b",
   "metadata": {},
   "source": [
    " 3. This discount residual can be seen as a version of discounts that have been debiased from sales_prediction_bins. Remember how sales_prediction_bins was causing confounding bias because it is a common cause of both profits and discounts? Now the residuals we get from predicting discounts from sales_prediction_bins are, by definition, no longer explained by sales_prediction_bins. This is almost magical. To see it, using this new dataframe you created in Step 2, plot profit by discount residual and set colors to be the sales predictions bins (just like in Step 1). What happens to the bias? If everything went well, you should see that customers with high residualized discounts no longer have high sales_prediction_bins. In fact, it looks like this residualized discount is as good as randomly assigned!"
   ]
  },
  {
   "cell_type": "code",
   "execution_count": null,
   "id": "b39d7ac6-d9ae-4540-a807-30fbc3346180",
   "metadata": {},
   "outputs": [],
   "source": [
    "plt.figure(figsize=(15,8))\n",
    "sns.scatterplot(data=df_res, x=\"discount_res\", y=\"profit\", hue=\"sales_prediction_bins\")\n",
    "sns.regplot(data=df_res, x=\"discount_res\", y=\"profit\", scatter=False)\n",
    "plt.ylim(-20, 200);"
   ]
  },
  {
   "cell_type": "markdown",
   "id": "994f93a1-46de-4106-a0f5-db3e02715fd9",
   "metadata": {},
   "source": [
    "4. Continuing on task to control for sales predictions, we will repeat Steps 3 and 4, but now with **profits** instead of discounts.\n",
    "Regress profit on sales_prediction_bins. Remember to treat sales_prediction_bins as a categorical variable.\n",
    "Create a new dataframe df_profit_res that is df_discount_res plus a column with the above model’s profit residual, plus the profit average\n",
    "<br>`df[\"profit\"] - prediction + df[\"profit\"].mean()`."
   ]
  },
  {
   "cell_type": "code",
   "execution_count": null,
   "id": "d1652772-abef-4f50-9735-f9c4700599a8",
   "metadata": {},
   "outputs": [],
   "source": [
    "formula=\"profit~C(sales_prediction_bins)\"\n",
    "mod = smf.ols(formula=formula, data=data_clean)  # Discount profit\n",
    "res['d__cspb'] = {\n",
    "    'model' : mod.fit(),\n",
    "    'formula' : formula\n",
    "}\n",
    "\n",
    "df_res = (df_res.assign(profit_res = res['d__cspb']['model'].resid + df_res[\"profit\"].mean()))\n",
    "\n",
    "res['d__cspb']['model'].summary()"
   ]
  },
  {
   "cell_type": "code",
   "execution_count": null,
   "id": "9884bf97-4c65-45a1-b642-8ab8d52cf198",
   "metadata": {},
   "outputs": [],
   "source": [
    "plt.figure(figsize=(15,8))\n",
    "sns.scatterplot(data=df_res, x=\"discount_res\", y=\"profit_res\", hue=\"sales_prediction_bins\")\n",
    "sns.regplot(data=df_res, x=\"discount_res\", y=\"profit_res\", scatter=False)\n",
    "plt.ylim(-20, 200);"
   ]
  },
  {
   "cell_type": "markdown",
   "id": "31bb7266-13cb-479b-8099-a32955ad5a82",
   "metadata": {},
   "source": [
    "5. Using this new dataframe, just like in Step 3, plot profit residual by discount residual and set colors to be the sales predictions bins. Do you see any difference?\n",
    "Using the data with both profit and discount residuals, df_profit_res, use statsmodels to regress profit residuals on discount residuals. What is the linear coefficient? This \n",
    "coefficient can be interpreted as how much we expect profit to change as we increase discount by one unit while holding sales_prediction_bins fixed.\n",
    "Run a regression model where profit is the dependent variable and discount and sales_prediction_bins are the independent variables: \"profit~discount + C(sales_prediction_bins)\". What is the discount coefficient? How does it compare to the result you found in Step 5? If everything goes well, it should be exactly the same as the number you got on Step 5.\n",
    "We’ve debiased the relationship between discount and profits so that it is no longer confounded by sales prediction. If we’ve managed to remove the bias, it means that we can now interpret this relationship as causal. If that is the cause, what is the causal effect of discount on profits? Do you recommend the e-commerce company keep the discounts or not?"
   ]
  },
  {
   "cell_type": "code",
   "execution_count": null,
   "id": "bb11e022-8cb2-403d-bf31-2f2cd9b110f4",
   "metadata": {},
   "outputs": [],
   "source": [
    "model = smf.ols(\"profit_res~discount_res\", data=df_res).fit()\n",
    "model.summary().tables[1]"
   ]
  },
  {
   "cell_type": "code",
   "execution_count": null,
   "id": "f8724745-a763-42fe-8e55-a453c3101b93",
   "metadata": {},
   "outputs": [],
   "source": [
    "plt.figure(figsize=(15,8))\n",
    "sns.scatterplot(data=df_res, x=\"discount_res\", y=\"profit_res\", hue=\"sales_prediction_bins\")\n",
    "sns.regplot(data=df_res, x=\"discount_res\", y=\"profit_res\", scatter=False)\n",
    "plt.ylim(-20, 200);"
   ]
  },
  {
   "cell_type": "markdown",
   "id": "33957ac9-9a2c-45b4-899d-df1d4c37c072",
   "metadata": {},
   "source": [
    "### 6\n",
    "Run a regression model where profit is the dependent variable and discount and sales_prediction_bins are the independent variables: \"profit~discount + C(sales_prediction_bins)\". What is the discount coefficient? How does it compare to the result you found in Step 5? If everything goes well, it should be exactly the same as the number you got on Step 5."
   ]
  },
  {
   "cell_type": "code",
   "execution_count": null,
   "id": "141849c7-23c8-4c97-a331-15f2b7e2d2e0",
   "metadata": {},
   "outputs": [],
   "source": [
    "model = smf.ols(\"profit~discount + C(sales_prediction_bins)\", data=data_clean).fit()\n",
    "model.summary().tables[1]"
   ]
  },
  {
   "cell_type": "markdown",
   "id": "cb247f0f-d0bd-4f9e-89a9-c146855571c2",
   "metadata": {},
   "source": [
    "7. We’ve debiased the relationship between discount and profits so that it is no longer confounded by sales prediction. If we’ve managed to remove the bias, it means that we can now interpret this relationship as causal."
   ]
  },
  {
   "cell_type": "markdown",
   "id": "e412aece-6a63-42e2-bd5e-7fadf77c1751",
   "metadata": {},
   "source": [
    "1- **If that is the cause, what is the causal effect of discount on profits?**\n",
    "\n",
    "The relationship is low and not statistically significant, but if anything it might be negative as a discount reduces the profits.\n",
    "Also, not considered in this analysis but when a customer satisfies a need it's a product the customer might no longer need and therefore one less thing to sell."
   ]
  },
  {
   "cell_type": "markdown",
   "id": "a7deeeae-1f17-4d52-9de5-312a4a38132f",
   "metadata": {},
   "source": [
    "2- **Do you recommend the e-commerce company keep the discounts or not?**\n",
    "\n",
    "No, because there's no evidence of any benefit for the company."
   ]
  },
  {
   "cell_type": "code",
   "execution_count": null,
   "id": "2018eedb-1292-44fe-9a16-15e36ed5ff70",
   "metadata": {},
   "outputs": [],
   "source": []
  }
 ],
 "metadata": {
  "colab": {
   "collapsed_sections": [
    "b3V8TdcLWkMW",
    "houkHfFqW08Y",
    "q65k93H5WAcV"
   ],
   "name": "3 Confounding Bias.ipynb",
   "provenance": [],
   "toc_visible": true
  },
  "kernelspec": {
   "display_name": ".conda",
   "language": "python",
   "name": "python3"
  },
  "language_info": {
   "codemirror_mode": {
    "name": "ipython",
    "version": 3
   },
   "file_extension": ".py",
   "mimetype": "text/x-python",
   "name": "python",
   "nbconvert_exporter": "python",
   "pygments_lexer": "ipython3",
   "version": "3.11.10"
  },
  "widgets": {
   "application/vnd.jupyter.widget-state+json": {
    "0b28d929dbf34499a9c78ae688a3dfee": {
     "model_module": "@jupyter-widgets/base",
     "model_module_version": "1.2.0",
     "model_name": "LayoutModel",
     "state": {
      "_model_module": "@jupyter-widgets/base",
      "_model_module_version": "1.2.0",
      "_model_name": "LayoutModel",
      "_view_count": null,
      "_view_module": "@jupyter-widgets/base",
      "_view_module_version": "1.2.0",
      "_view_name": "LayoutView",
      "align_content": null,
      "align_items": null,
      "align_self": null,
      "border": null,
      "bottom": null,
      "display": null,
      "flex": null,
      "flex_flow": null,
      "grid_area": null,
      "grid_auto_columns": null,
      "grid_auto_flow": null,
      "grid_auto_rows": null,
      "grid_column": null,
      "grid_gap": null,
      "grid_row": null,
      "grid_template_areas": null,
      "grid_template_columns": null,
      "grid_template_rows": null,
      "height": null,
      "justify_content": null,
      "justify_items": null,
      "left": null,
      "margin": null,
      "max_height": null,
      "max_width": null,
      "min_height": null,
      "min_width": null,
      "object_fit": null,
      "object_position": null,
      "order": null,
      "overflow": null,
      "overflow_x": null,
      "overflow_y": null,
      "padding": null,
      "right": null,
      "top": null,
      "visibility": null,
      "width": null
     }
    },
    "131581e6c97546f3b8308131e52e4a11": {
     "model_module": "@jupyter-widgets/controls",
     "model_module_version": "1.5.0",
     "model_name": "ProgressStyleModel",
     "state": {
      "_model_module": "@jupyter-widgets/controls",
      "_model_module_version": "1.5.0",
      "_model_name": "ProgressStyleModel",
      "_view_count": null,
      "_view_module": "@jupyter-widgets/base",
      "_view_module_version": "1.2.0",
      "_view_name": "StyleView",
      "bar_color": null,
      "description_width": ""
     }
    },
    "15a04afd154d494e91f9d85fa944652f": {
     "model_module": "@jupyter-widgets/controls",
     "model_module_version": "1.5.0",
     "model_name": "ProgressStyleModel",
     "state": {
      "_model_module": "@jupyter-widgets/controls",
      "_model_module_version": "1.5.0",
      "_model_name": "ProgressStyleModel",
      "_view_count": null,
      "_view_module": "@jupyter-widgets/base",
      "_view_module_version": "1.2.0",
      "_view_name": "StyleView",
      "bar_color": null,
      "description_width": ""
     }
    },
    "1bd3c266970943e59d3916a8cc5006a9": {
     "model_module": "@jupyter-widgets/controls",
     "model_module_version": "1.5.0",
     "model_name": "IntProgressModel",
     "state": {
      "_dom_classes": [],
      "_model_module": "@jupyter-widgets/controls",
      "_model_module_version": "1.5.0",
      "_model_name": "IntProgressModel",
      "_view_count": null,
      "_view_module": "@jupyter-widgets/controls",
      "_view_module_version": "1.5.0",
      "_view_name": "ProgressView",
      "bar_style": "",
      "description": "Processing: ",
      "description_tooltip": null,
      "layout": "IPY_MODEL_c39a09f803954011a2742a28990f504b",
      "max": 4,
      "min": 0,
      "orientation": "horizontal",
      "style": "IPY_MODEL_60007055eb244459abde08ccd25d29f8",
      "value": 4
     }
    },
    "1f4c885c963f40a5aa4bce6464ebc565": {
     "model_module": "@jupyter-widgets/base",
     "model_module_version": "1.2.0",
     "model_name": "LayoutModel",
     "state": {
      "_model_module": "@jupyter-widgets/base",
      "_model_module_version": "1.2.0",
      "_model_name": "LayoutModel",
      "_view_count": null,
      "_view_module": "@jupyter-widgets/base",
      "_view_module_version": "1.2.0",
      "_view_name": "LayoutView",
      "align_content": null,
      "align_items": null,
      "align_self": null,
      "border": null,
      "bottom": null,
      "display": null,
      "flex": null,
      "flex_flow": null,
      "grid_area": null,
      "grid_auto_columns": null,
      "grid_auto_flow": null,
      "grid_auto_rows": null,
      "grid_column": null,
      "grid_gap": null,
      "grid_row": null,
      "grid_template_areas": null,
      "grid_template_columns": null,
      "grid_template_rows": null,
      "height": null,
      "justify_content": null,
      "justify_items": null,
      "left": null,
      "margin": null,
      "max_height": null,
      "max_width": null,
      "min_height": null,
      "min_width": null,
      "object_fit": null,
      "object_position": null,
      "order": null,
      "overflow": null,
      "overflow_x": null,
      "overflow_y": null,
      "padding": null,
      "right": null,
      "top": null,
      "visibility": null,
      "width": null
     }
    },
    "1f54ac00c12b4a31be6bf5437e215018": {
     "model_module": "@jupyter-widgets/controls",
     "model_module_version": "1.5.0",
     "model_name": "DescriptionStyleModel",
     "state": {
      "_model_module": "@jupyter-widgets/controls",
      "_model_module_version": "1.5.0",
      "_model_name": "DescriptionStyleModel",
      "_view_count": null,
      "_view_module": "@jupyter-widgets/base",
      "_view_module_version": "1.2.0",
      "_view_name": "StyleView",
      "description_width": ""
     }
    },
    "25cc56a1963c479ebacf343bcff12061": {
     "model_module": "@jupyter-widgets/controls",
     "model_module_version": "1.5.0",
     "model_name": "IntProgressModel",
     "state": {
      "_dom_classes": [],
      "_model_module": "@jupyter-widgets/controls",
      "_model_module_version": "1.5.0",
      "_model_name": "IntProgressModel",
      "_view_count": null,
      "_view_module": "@jupyter-widgets/controls",
      "_view_module_version": "1.5.0",
      "_view_name": "ProgressView",
      "bar_style": "",
      "description": "Processing: ",
      "description_tooltip": null,
      "layout": "IPY_MODEL_92704e84f6f341389b63cb4c13fb44ed",
      "max": 4,
      "min": 0,
      "orientation": "horizontal",
      "style": "IPY_MODEL_51be77d5f98c4647bfe45e6ff29d3797",
      "value": 4
     }
    },
    "2c9fe49e743b47b49405a7e3dd6df0fb": {
     "model_module": "@jupyter-widgets/base",
     "model_module_version": "1.2.0",
     "model_name": "LayoutModel",
     "state": {
      "_model_module": "@jupyter-widgets/base",
      "_model_module_version": "1.2.0",
      "_model_name": "LayoutModel",
      "_view_count": null,
      "_view_module": "@jupyter-widgets/base",
      "_view_module_version": "1.2.0",
      "_view_name": "LayoutView",
      "align_content": null,
      "align_items": null,
      "align_self": null,
      "border": null,
      "bottom": null,
      "display": null,
      "flex": null,
      "flex_flow": null,
      "grid_area": null,
      "grid_auto_columns": null,
      "grid_auto_flow": null,
      "grid_auto_rows": null,
      "grid_column": null,
      "grid_gap": null,
      "grid_row": null,
      "grid_template_areas": null,
      "grid_template_columns": null,
      "grid_template_rows": null,
      "height": null,
      "justify_content": null,
      "justify_items": null,
      "left": null,
      "margin": null,
      "max_height": null,
      "max_width": null,
      "min_height": null,
      "min_width": null,
      "object_fit": null,
      "object_position": null,
      "order": null,
      "overflow": null,
      "overflow_x": null,
      "overflow_y": null,
      "padding": null,
      "right": null,
      "top": null,
      "visibility": null,
      "width": null
     }
    },
    "31860cc21852431c97d8886a0985668f": {
     "model_module": "@jupyter-widgets/controls",
     "model_module_version": "1.5.0",
     "model_name": "IntProgressModel",
     "state": {
      "_dom_classes": [],
      "_model_module": "@jupyter-widgets/controls",
      "_model_module_version": "1.5.0",
      "_model_name": "IntProgressModel",
      "_view_count": null,
      "_view_module": "@jupyter-widgets/controls",
      "_view_module_version": "1.5.0",
      "_view_name": "ProgressView",
      "bar_style": "",
      "description": "Processing: ",
      "description_tooltip": null,
      "layout": "IPY_MODEL_1f4c885c963f40a5aa4bce6464ebc565",
      "max": 7,
      "min": 0,
      "orientation": "horizontal",
      "style": "IPY_MODEL_97d5cae588f44f6284f226beea9c7d59",
      "value": 7
     }
    },
    "32fcc40d39574de5a5a8aa3a9ea6e431": {
     "model_module": "@jupyter-widgets/base",
     "model_module_version": "1.2.0",
     "model_name": "LayoutModel",
     "state": {
      "_model_module": "@jupyter-widgets/base",
      "_model_module_version": "1.2.0",
      "_model_name": "LayoutModel",
      "_view_count": null,
      "_view_module": "@jupyter-widgets/base",
      "_view_module_version": "1.2.0",
      "_view_name": "LayoutView",
      "align_content": null,
      "align_items": null,
      "align_self": null,
      "border": null,
      "bottom": null,
      "display": null,
      "flex": null,
      "flex_flow": null,
      "grid_area": null,
      "grid_auto_columns": null,
      "grid_auto_flow": null,
      "grid_auto_rows": null,
      "grid_column": null,
      "grid_gap": null,
      "grid_row": null,
      "grid_template_areas": null,
      "grid_template_columns": null,
      "grid_template_rows": null,
      "height": null,
      "justify_content": null,
      "justify_items": null,
      "left": null,
      "margin": null,
      "max_height": null,
      "max_width": null,
      "min_height": null,
      "min_width": null,
      "object_fit": null,
      "object_position": null,
      "order": null,
      "overflow": null,
      "overflow_x": null,
      "overflow_y": null,
      "padding": null,
      "right": null,
      "top": null,
      "visibility": null,
      "width": null
     }
    },
    "337deb9485024f4b82fcd26e0902c09d": {
     "model_module": "@jupyter-widgets/base",
     "model_module_version": "1.2.0",
     "model_name": "LayoutModel",
     "state": {
      "_model_module": "@jupyter-widgets/base",
      "_model_module_version": "1.2.0",
      "_model_name": "LayoutModel",
      "_view_count": null,
      "_view_module": "@jupyter-widgets/base",
      "_view_module_version": "1.2.0",
      "_view_name": "LayoutView",
      "align_content": null,
      "align_items": null,
      "align_self": null,
      "border": null,
      "bottom": null,
      "display": null,
      "flex": null,
      "flex_flow": null,
      "grid_area": null,
      "grid_auto_columns": null,
      "grid_auto_flow": null,
      "grid_auto_rows": null,
      "grid_column": null,
      "grid_gap": null,
      "grid_row": null,
      "grid_template_areas": null,
      "grid_template_columns": null,
      "grid_template_rows": null,
      "height": null,
      "justify_content": null,
      "justify_items": null,
      "left": null,
      "margin": null,
      "max_height": null,
      "max_width": null,
      "min_height": null,
      "min_width": null,
      "object_fit": null,
      "object_position": null,
      "order": null,
      "overflow": null,
      "overflow_x": null,
      "overflow_y": null,
      "padding": null,
      "right": null,
      "top": null,
      "visibility": null,
      "width": null
     }
    },
    "3bb8093a3ca948f4b8b5bb800e12aaaa": {
     "model_module": "@jupyter-widgets/controls",
     "model_module_version": "1.5.0",
     "model_name": "ProgressStyleModel",
     "state": {
      "_model_module": "@jupyter-widgets/controls",
      "_model_module_version": "1.5.0",
      "_model_name": "ProgressStyleModel",
      "_view_count": null,
      "_view_module": "@jupyter-widgets/base",
      "_view_module_version": "1.2.0",
      "_view_name": "StyleView",
      "bar_color": null,
      "description_width": ""
     }
    },
    "404a8be0cc414195a4fbec53aee00b4a": {
     "model_module": "@jupyter-widgets/base",
     "model_module_version": "1.2.0",
     "model_name": "LayoutModel",
     "state": {
      "_model_module": "@jupyter-widgets/base",
      "_model_module_version": "1.2.0",
      "_model_name": "LayoutModel",
      "_view_count": null,
      "_view_module": "@jupyter-widgets/base",
      "_view_module_version": "1.2.0",
      "_view_name": "LayoutView",
      "align_content": null,
      "align_items": null,
      "align_self": null,
      "border": null,
      "bottom": null,
      "display": null,
      "flex": null,
      "flex_flow": null,
      "grid_area": null,
      "grid_auto_columns": null,
      "grid_auto_flow": null,
      "grid_auto_rows": null,
      "grid_column": null,
      "grid_gap": null,
      "grid_row": null,
      "grid_template_areas": null,
      "grid_template_columns": null,
      "grid_template_rows": null,
      "height": null,
      "justify_content": null,
      "justify_items": null,
      "left": null,
      "margin": null,
      "max_height": null,
      "max_width": null,
      "min_height": null,
      "min_width": null,
      "object_fit": null,
      "object_position": null,
      "order": null,
      "overflow": null,
      "overflow_x": null,
      "overflow_y": null,
      "padding": null,
      "right": null,
      "top": null,
      "visibility": null,
      "width": null
     }
    },
    "4c69a561bda64b3a96af862153c23ece": {
     "model_module": "@jupyter-widgets/controls",
     "model_module_version": "1.5.0",
     "model_name": "IntProgressModel",
     "state": {
      "_dom_classes": [],
      "_model_module": "@jupyter-widgets/controls",
      "_model_module_version": "1.5.0",
      "_model_name": "IntProgressModel",
      "_view_count": null,
      "_view_module": "@jupyter-widgets/controls",
      "_view_module_version": "1.5.0",
      "_view_name": "ProgressView",
      "bar_style": "",
      "description": "Processing: ",
      "description_tooltip": null,
      "layout": "IPY_MODEL_b66817f1fe9a434cbd46b93d7d7b4155",
      "max": 4,
      "min": 0,
      "orientation": "horizontal",
      "style": "IPY_MODEL_5b7c5e5be74f459bae2c7706b86ac0e5",
      "value": 4
     }
    },
    "4e423dfd1033418583d48fc4ebc6bd90": {
     "model_module": "@jupyter-widgets/controls",
     "model_module_version": "1.5.0",
     "model_name": "ProgressStyleModel",
     "state": {
      "_model_module": "@jupyter-widgets/controls",
      "_model_module_version": "1.5.0",
      "_model_name": "ProgressStyleModel",
      "_view_count": null,
      "_view_module": "@jupyter-widgets/base",
      "_view_module_version": "1.2.0",
      "_view_name": "StyleView",
      "bar_color": null,
      "description_width": ""
     }
    },
    "51be77d5f98c4647bfe45e6ff29d3797": {
     "model_module": "@jupyter-widgets/controls",
     "model_module_version": "1.5.0",
     "model_name": "ProgressStyleModel",
     "state": {
      "_model_module": "@jupyter-widgets/controls",
      "_model_module_version": "1.5.0",
      "_model_name": "ProgressStyleModel",
      "_view_count": null,
      "_view_module": "@jupyter-widgets/base",
      "_view_module_version": "1.2.0",
      "_view_name": "StyleView",
      "bar_color": null,
      "description_width": ""
     }
    },
    "54c58ee8ee5a4c5ab99cce8c171a1bb5": {
     "model_module": "@jupyter-widgets/controls",
     "model_module_version": "1.5.0",
     "model_name": "IntProgressModel",
     "state": {
      "_dom_classes": [],
      "_model_module": "@jupyter-widgets/controls",
      "_model_module_version": "1.5.0",
      "_model_name": "IntProgressModel",
      "_view_count": null,
      "_view_module": "@jupyter-widgets/controls",
      "_view_module_version": "1.5.0",
      "_view_name": "ProgressView",
      "bar_style": "",
      "description": "Processing: ",
      "description_tooltip": null,
      "layout": "IPY_MODEL_85aaa9abce554f40af2891ecb6233149",
      "max": 4,
      "min": 0,
      "orientation": "horizontal",
      "style": "IPY_MODEL_9190f38ecb444cdcb0b782d22af9aa60",
      "value": 4
     }
    },
    "57a032f8a9544d35b353e5c723ffd139": {
     "model_module": "@jupyter-widgets/base",
     "model_module_version": "1.2.0",
     "model_name": "LayoutModel",
     "state": {
      "_model_module": "@jupyter-widgets/base",
      "_model_module_version": "1.2.0",
      "_model_name": "LayoutModel",
      "_view_count": null,
      "_view_module": "@jupyter-widgets/base",
      "_view_module_version": "1.2.0",
      "_view_name": "LayoutView",
      "align_content": null,
      "align_items": null,
      "align_self": null,
      "border": null,
      "bottom": null,
      "display": null,
      "flex": null,
      "flex_flow": null,
      "grid_area": null,
      "grid_auto_columns": null,
      "grid_auto_flow": null,
      "grid_auto_rows": null,
      "grid_column": null,
      "grid_gap": null,
      "grid_row": null,
      "grid_template_areas": null,
      "grid_template_columns": null,
      "grid_template_rows": null,
      "height": null,
      "justify_content": null,
      "justify_items": null,
      "left": null,
      "margin": null,
      "max_height": null,
      "max_width": null,
      "min_height": null,
      "min_width": null,
      "object_fit": null,
      "object_position": null,
      "order": null,
      "overflow": null,
      "overflow_x": null,
      "overflow_y": null,
      "padding": null,
      "right": null,
      "top": null,
      "visibility": null,
      "width": "100%"
     }
    },
    "5b7c5e5be74f459bae2c7706b86ac0e5": {
     "model_module": "@jupyter-widgets/controls",
     "model_module_version": "1.5.0",
     "model_name": "ProgressStyleModel",
     "state": {
      "_model_module": "@jupyter-widgets/controls",
      "_model_module_version": "1.5.0",
      "_model_name": "ProgressStyleModel",
      "_view_count": null,
      "_view_module": "@jupyter-widgets/base",
      "_view_module_version": "1.2.0",
      "_view_name": "StyleView",
      "bar_color": null,
      "description_width": ""
     }
    },
    "60007055eb244459abde08ccd25d29f8": {
     "model_module": "@jupyter-widgets/controls",
     "model_module_version": "1.5.0",
     "model_name": "ProgressStyleModel",
     "state": {
      "_model_module": "@jupyter-widgets/controls",
      "_model_module_version": "1.5.0",
      "_model_name": "ProgressStyleModel",
      "_view_count": null,
      "_view_module": "@jupyter-widgets/base",
      "_view_module_version": "1.2.0",
      "_view_name": "StyleView",
      "bar_color": null,
      "description_width": ""
     }
    },
    "6a94ef156dfc44e8be02323ac2132cdb": {
     "model_module": "@jupyter-widgets/base",
     "model_module_version": "1.2.0",
     "model_name": "LayoutModel",
     "state": {
      "_model_module": "@jupyter-widgets/base",
      "_model_module_version": "1.2.0",
      "_model_name": "LayoutModel",
      "_view_count": null,
      "_view_module": "@jupyter-widgets/base",
      "_view_module_version": "1.2.0",
      "_view_name": "LayoutView",
      "align_content": null,
      "align_items": null,
      "align_self": null,
      "border": null,
      "bottom": null,
      "display": null,
      "flex": null,
      "flex_flow": null,
      "grid_area": null,
      "grid_auto_columns": null,
      "grid_auto_flow": null,
      "grid_auto_rows": null,
      "grid_column": null,
      "grid_gap": null,
      "grid_row": null,
      "grid_template_areas": null,
      "grid_template_columns": null,
      "grid_template_rows": null,
      "height": null,
      "justify_content": null,
      "justify_items": null,
      "left": null,
      "margin": null,
      "max_height": null,
      "max_width": null,
      "min_height": null,
      "min_width": null,
      "object_fit": null,
      "object_position": null,
      "order": null,
      "overflow": null,
      "overflow_x": null,
      "overflow_y": null,
      "padding": null,
      "right": null,
      "top": null,
      "visibility": null,
      "width": null
     }
    },
    "6ba175869f0b45009ea09ec0724b9459": {
     "model_module": "@jupyter-widgets/controls",
     "model_module_version": "1.5.0",
     "model_name": "ProgressStyleModel",
     "state": {
      "_model_module": "@jupyter-widgets/controls",
      "_model_module_version": "1.5.0",
      "_model_name": "ProgressStyleModel",
      "_view_count": null,
      "_view_module": "@jupyter-widgets/base",
      "_view_module_version": "1.2.0",
      "_view_name": "StyleView",
      "bar_color": null,
      "description_width": ""
     }
    },
    "7037401f94d04247aae345a0eac2929b": {
     "model_module": "@jupyter-widgets/controls",
     "model_module_version": "1.5.0",
     "model_name": "IntProgressModel",
     "state": {
      "_dom_classes": [],
      "_model_module": "@jupyter-widgets/controls",
      "_model_module_version": "1.5.0",
      "_model_name": "IntProgressModel",
      "_view_count": null,
      "_view_module": "@jupyter-widgets/controls",
      "_view_module_version": "1.5.0",
      "_view_name": "ProgressView",
      "bar_style": "",
      "description": "Processing: ",
      "description_tooltip": null,
      "layout": "IPY_MODEL_32fcc40d39574de5a5a8aa3a9ea6e431",
      "max": 7,
      "min": 0,
      "orientation": "horizontal",
      "style": "IPY_MODEL_e8337097dee14f6392d81baf2475e647",
      "value": 7
     }
    },
    "7583ff7591494c32beae51e72c783517": {
     "model_module": "@jupyter-widgets/base",
     "model_module_version": "1.2.0",
     "model_name": "LayoutModel",
     "state": {
      "_model_module": "@jupyter-widgets/base",
      "_model_module_version": "1.2.0",
      "_model_name": "LayoutModel",
      "_view_count": null,
      "_view_module": "@jupyter-widgets/base",
      "_view_module_version": "1.2.0",
      "_view_name": "LayoutView",
      "align_content": null,
      "align_items": null,
      "align_self": null,
      "border": null,
      "bottom": null,
      "display": null,
      "flex": null,
      "flex_flow": null,
      "grid_area": null,
      "grid_auto_columns": null,
      "grid_auto_flow": null,
      "grid_auto_rows": null,
      "grid_column": null,
      "grid_gap": null,
      "grid_row": null,
      "grid_template_areas": null,
      "grid_template_columns": null,
      "grid_template_rows": null,
      "height": null,
      "justify_content": null,
      "justify_items": null,
      "left": null,
      "margin": null,
      "max_height": null,
      "max_width": null,
      "min_height": null,
      "min_width": null,
      "object_fit": null,
      "object_position": null,
      "order": null,
      "overflow": null,
      "overflow_x": null,
      "overflow_y": null,
      "padding": null,
      "right": null,
      "top": null,
      "visibility": null,
      "width": null
     }
    },
    "7d2cea7f74054170aceb78c2851fb0ca": {
     "model_module": "@jupyter-widgets/controls",
     "model_module_version": "1.5.0",
     "model_name": "IntProgressModel",
     "state": {
      "_dom_classes": [],
      "_model_module": "@jupyter-widgets/controls",
      "_model_module_version": "1.5.0",
      "_model_name": "IntProgressModel",
      "_view_count": null,
      "_view_module": "@jupyter-widgets/controls",
      "_view_module_version": "1.5.0",
      "_view_name": "ProgressView",
      "bar_style": "",
      "description": "Processing: ",
      "description_tooltip": null,
      "layout": "IPY_MODEL_0b28d929dbf34499a9c78ae688a3dfee",
      "max": 5,
      "min": 0,
      "orientation": "horizontal",
      "style": "IPY_MODEL_131581e6c97546f3b8308131e52e4a11",
      "value": 5
     }
    },
    "85aaa9abce554f40af2891ecb6233149": {
     "model_module": "@jupyter-widgets/base",
     "model_module_version": "1.2.0",
     "model_name": "LayoutModel",
     "state": {
      "_model_module": "@jupyter-widgets/base",
      "_model_module_version": "1.2.0",
      "_model_name": "LayoutModel",
      "_view_count": null,
      "_view_module": "@jupyter-widgets/base",
      "_view_module_version": "1.2.0",
      "_view_name": "LayoutView",
      "align_content": null,
      "align_items": null,
      "align_self": null,
      "border": null,
      "bottom": null,
      "display": null,
      "flex": null,
      "flex_flow": null,
      "grid_area": null,
      "grid_auto_columns": null,
      "grid_auto_flow": null,
      "grid_auto_rows": null,
      "grid_column": null,
      "grid_gap": null,
      "grid_row": null,
      "grid_template_areas": null,
      "grid_template_columns": null,
      "grid_template_rows": null,
      "height": null,
      "justify_content": null,
      "justify_items": null,
      "left": null,
      "margin": null,
      "max_height": null,
      "max_width": null,
      "min_height": null,
      "min_width": null,
      "object_fit": null,
      "object_position": null,
      "order": null,
      "overflow": null,
      "overflow_x": null,
      "overflow_y": null,
      "padding": null,
      "right": null,
      "top": null,
      "visibility": null,
      "width": null
     }
    },
    "88b685efb7b44152b8ae7a67999041c7": {
     "model_module": "@jupyter-widgets/controls",
     "model_module_version": "1.5.0",
     "model_name": "IntProgressModel",
     "state": {
      "_dom_classes": [],
      "_model_module": "@jupyter-widgets/controls",
      "_model_module_version": "1.5.0",
      "_model_name": "IntProgressModel",
      "_view_count": null,
      "_view_module": "@jupyter-widgets/controls",
      "_view_module_version": "1.5.0",
      "_view_name": "ProgressView",
      "bar_style": "",
      "description": "Processing: ",
      "description_tooltip": null,
      "layout": "IPY_MODEL_dc7b4f910e734271a400e4b6e17cc0c9",
      "max": 94,
      "min": 0,
      "orientation": "horizontal",
      "style": "IPY_MODEL_c832ee08faf74e1db421528ddcf5a407",
      "value": 94
     }
    },
    "9190f38ecb444cdcb0b782d22af9aa60": {
     "model_module": "@jupyter-widgets/controls",
     "model_module_version": "1.5.0",
     "model_name": "ProgressStyleModel",
     "state": {
      "_model_module": "@jupyter-widgets/controls",
      "_model_module_version": "1.5.0",
      "_model_name": "ProgressStyleModel",
      "_view_count": null,
      "_view_module": "@jupyter-widgets/base",
      "_view_module_version": "1.2.0",
      "_view_name": "StyleView",
      "bar_color": null,
      "description_width": ""
     }
    },
    "92704e84f6f341389b63cb4c13fb44ed": {
     "model_module": "@jupyter-widgets/base",
     "model_module_version": "1.2.0",
     "model_name": "LayoutModel",
     "state": {
      "_model_module": "@jupyter-widgets/base",
      "_model_module_version": "1.2.0",
      "_model_name": "LayoutModel",
      "_view_count": null,
      "_view_module": "@jupyter-widgets/base",
      "_view_module_version": "1.2.0",
      "_view_name": "LayoutView",
      "align_content": null,
      "align_items": null,
      "align_self": null,
      "border": null,
      "bottom": null,
      "display": null,
      "flex": null,
      "flex_flow": null,
      "grid_area": null,
      "grid_auto_columns": null,
      "grid_auto_flow": null,
      "grid_auto_rows": null,
      "grid_column": null,
      "grid_gap": null,
      "grid_row": null,
      "grid_template_areas": null,
      "grid_template_columns": null,
      "grid_template_rows": null,
      "height": null,
      "justify_content": null,
      "justify_items": null,
      "left": null,
      "margin": null,
      "max_height": null,
      "max_width": null,
      "min_height": null,
      "min_width": null,
      "object_fit": null,
      "object_position": null,
      "order": null,
      "overflow": null,
      "overflow_x": null,
      "overflow_y": null,
      "padding": null,
      "right": null,
      "top": null,
      "visibility": null,
      "width": null
     }
    },
    "97d5cae588f44f6284f226beea9c7d59": {
     "model_module": "@jupyter-widgets/controls",
     "model_module_version": "1.5.0",
     "model_name": "ProgressStyleModel",
     "state": {
      "_model_module": "@jupyter-widgets/controls",
      "_model_module_version": "1.5.0",
      "_model_name": "ProgressStyleModel",
      "_view_count": null,
      "_view_module": "@jupyter-widgets/base",
      "_view_module_version": "1.2.0",
      "_view_name": "StyleView",
      "bar_color": null,
      "description_width": ""
     }
    },
    "aba06d4bf73747b9b4d2fa0d1bb36d68": {
     "model_module": "@jupyter-widgets/controls",
     "model_module_version": "1.5.0",
     "model_name": "ProgressStyleModel",
     "state": {
      "_model_module": "@jupyter-widgets/controls",
      "_model_module_version": "1.5.0",
      "_model_name": "ProgressStyleModel",
      "_view_count": null,
      "_view_module": "@jupyter-widgets/base",
      "_view_module_version": "1.2.0",
      "_view_name": "StyleView",
      "bar_color": null,
      "description_width": ""
     }
    },
    "abad16c97fb44d9e9c485bcab41899d6": {
     "model_module": "@jupyter-widgets/controls",
     "model_module_version": "1.5.0",
     "model_name": "IntProgressModel",
     "state": {
      "_dom_classes": [],
      "_model_module": "@jupyter-widgets/controls",
      "_model_module_version": "1.5.0",
      "_model_name": "IntProgressModel",
      "_view_count": null,
      "_view_module": "@jupyter-widgets/controls",
      "_view_module_version": "1.5.0",
      "_view_name": "ProgressView",
      "bar_style": "",
      "description": "Processing: ",
      "description_tooltip": null,
      "layout": "IPY_MODEL_404a8be0cc414195a4fbec53aee00b4a",
      "max": 3,
      "min": 0,
      "orientation": "horizontal",
      "style": "IPY_MODEL_6ba175869f0b45009ea09ec0724b9459",
      "value": 3
     }
    },
    "b66817f1fe9a434cbd46b93d7d7b4155": {
     "model_module": "@jupyter-widgets/base",
     "model_module_version": "1.2.0",
     "model_name": "LayoutModel",
     "state": {
      "_model_module": "@jupyter-widgets/base",
      "_model_module_version": "1.2.0",
      "_model_name": "LayoutModel",
      "_view_count": null,
      "_view_module": "@jupyter-widgets/base",
      "_view_module_version": "1.2.0",
      "_view_name": "LayoutView",
      "align_content": null,
      "align_items": null,
      "align_self": null,
      "border": null,
      "bottom": null,
      "display": null,
      "flex": null,
      "flex_flow": null,
      "grid_area": null,
      "grid_auto_columns": null,
      "grid_auto_flow": null,
      "grid_auto_rows": null,
      "grid_column": null,
      "grid_gap": null,
      "grid_row": null,
      "grid_template_areas": null,
      "grid_template_columns": null,
      "grid_template_rows": null,
      "height": null,
      "justify_content": null,
      "justify_items": null,
      "left": null,
      "margin": null,
      "max_height": null,
      "max_width": null,
      "min_height": null,
      "min_width": null,
      "object_fit": null,
      "object_position": null,
      "order": null,
      "overflow": null,
      "overflow_x": null,
      "overflow_y": null,
      "padding": null,
      "right": null,
      "top": null,
      "visibility": null,
      "width": null
     }
    },
    "b75d21ce9d6b4ca3b74419f14ce1f195": {
     "model_module": "@jupyter-widgets/controls",
     "model_module_version": "1.5.0",
     "model_name": "IntProgressModel",
     "state": {
      "_dom_classes": [],
      "_model_module": "@jupyter-widgets/controls",
      "_model_module_version": "1.5.0",
      "_model_name": "IntProgressModel",
      "_view_count": null,
      "_view_module": "@jupyter-widgets/controls",
      "_view_module_version": "1.5.0",
      "_view_name": "ProgressView",
      "bar_style": "",
      "description": "Processing: ",
      "description_tooltip": null,
      "layout": "IPY_MODEL_7583ff7591494c32beae51e72c783517",
      "max": 7,
      "min": 0,
      "orientation": "horizontal",
      "style": "IPY_MODEL_15a04afd154d494e91f9d85fa944652f",
      "value": 7
     }
    },
    "bac25f4b78ad4d508c76b047e0bafbc1": {
     "model_module": "@jupyter-widgets/controls",
     "model_module_version": "1.5.0",
     "model_name": "IntProgressModel",
     "state": {
      "_dom_classes": [],
      "_model_module": "@jupyter-widgets/controls",
      "_model_module_version": "1.5.0",
      "_model_name": "IntProgressModel",
      "_view_count": null,
      "_view_module": "@jupyter-widgets/controls",
      "_view_module_version": "1.5.0",
      "_view_name": "ProgressView",
      "bar_style": "",
      "description": "Processing: ",
      "description_tooltip": null,
      "layout": "IPY_MODEL_2c9fe49e743b47b49405a7e3dd6df0fb",
      "max": 5,
      "min": 0,
      "orientation": "horizontal",
      "style": "IPY_MODEL_3bb8093a3ca948f4b8b5bb800e12aaaa",
      "value": 5
     }
    },
    "c08766cbc87747c6a4b751aa820ea457": {
     "model_module": "@jupyter-widgets/controls",
     "model_module_version": "1.5.0",
     "model_name": "IntProgressModel",
     "state": {
      "_dom_classes": [],
      "_model_module": "@jupyter-widgets/controls",
      "_model_module_version": "1.5.0",
      "_model_name": "IntProgressModel",
      "_view_count": null,
      "_view_module": "@jupyter-widgets/controls",
      "_view_module_version": "1.5.0",
      "_view_name": "ProgressView",
      "bar_style": "",
      "description": "Processing: ",
      "description_tooltip": null,
      "layout": "IPY_MODEL_ce2087972e36446f9b63c0f5bd5dc50f",
      "max": 7,
      "min": 0,
      "orientation": "horizontal",
      "style": "IPY_MODEL_aba06d4bf73747b9b4d2fa0d1bb36d68",
      "value": 7
     }
    },
    "c39a09f803954011a2742a28990f504b": {
     "model_module": "@jupyter-widgets/base",
     "model_module_version": "1.2.0",
     "model_name": "LayoutModel",
     "state": {
      "_model_module": "@jupyter-widgets/base",
      "_model_module_version": "1.2.0",
      "_model_name": "LayoutModel",
      "_view_count": null,
      "_view_module": "@jupyter-widgets/base",
      "_view_module_version": "1.2.0",
      "_view_name": "LayoutView",
      "align_content": null,
      "align_items": null,
      "align_self": null,
      "border": null,
      "bottom": null,
      "display": null,
      "flex": null,
      "flex_flow": null,
      "grid_area": null,
      "grid_auto_columns": null,
      "grid_auto_flow": null,
      "grid_auto_rows": null,
      "grid_column": null,
      "grid_gap": null,
      "grid_row": null,
      "grid_template_areas": null,
      "grid_template_columns": null,
      "grid_template_rows": null,
      "height": null,
      "justify_content": null,
      "justify_items": null,
      "left": null,
      "margin": null,
      "max_height": null,
      "max_width": null,
      "min_height": null,
      "min_width": null,
      "object_fit": null,
      "object_position": null,
      "order": null,
      "overflow": null,
      "overflow_x": null,
      "overflow_y": null,
      "padding": null,
      "right": null,
      "top": null,
      "visibility": null,
      "width": null
     }
    },
    "c3a500e759014dff94bd208af724772d": {
     "model_module": "@jupyter-widgets/controls",
     "model_module_version": "1.5.0",
     "model_name": "TextModel",
     "state": {
      "_dom_classes": [],
      "_model_module": "@jupyter-widgets/controls",
      "_model_module_version": "1.5.0",
      "_model_name": "TextModel",
      "_view_count": null,
      "_view_module": "@jupyter-widgets/controls",
      "_view_module_version": "1.5.0",
      "_view_name": "TextView",
      "continuous_update": true,
      "description": "",
      "description_tooltip": null,
      "disabled": false,
      "layout": "IPY_MODEL_57a032f8a9544d35b353e5c723ffd139",
      "placeholder": "​",
      "style": "IPY_MODEL_1f54ac00c12b4a31be6bf5437e215018",
      "value": "Following data types have been inferred automatically, if they are correct press enter to continue or type 'quit' otherwise."
     }
    },
    "c832ee08faf74e1db421528ddcf5a407": {
     "model_module": "@jupyter-widgets/controls",
     "model_module_version": "1.5.0",
     "model_name": "ProgressStyleModel",
     "state": {
      "_model_module": "@jupyter-widgets/controls",
      "_model_module_version": "1.5.0",
      "_model_name": "ProgressStyleModel",
      "_view_count": null,
      "_view_module": "@jupyter-widgets/base",
      "_view_module_version": "1.2.0",
      "_view_name": "StyleView",
      "bar_color": null,
      "description_width": ""
     }
    },
    "ce2087972e36446f9b63c0f5bd5dc50f": {
     "model_module": "@jupyter-widgets/base",
     "model_module_version": "1.2.0",
     "model_name": "LayoutModel",
     "state": {
      "_model_module": "@jupyter-widgets/base",
      "_model_module_version": "1.2.0",
      "_model_name": "LayoutModel",
      "_view_count": null,
      "_view_module": "@jupyter-widgets/base",
      "_view_module_version": "1.2.0",
      "_view_name": "LayoutView",
      "align_content": null,
      "align_items": null,
      "align_self": null,
      "border": null,
      "bottom": null,
      "display": null,
      "flex": null,
      "flex_flow": null,
      "grid_area": null,
      "grid_auto_columns": null,
      "grid_auto_flow": null,
      "grid_auto_rows": null,
      "grid_column": null,
      "grid_gap": null,
      "grid_row": null,
      "grid_template_areas": null,
      "grid_template_columns": null,
      "grid_template_rows": null,
      "height": null,
      "justify_content": null,
      "justify_items": null,
      "left": null,
      "margin": null,
      "max_height": null,
      "max_width": null,
      "min_height": null,
      "min_width": null,
      "object_fit": null,
      "object_position": null,
      "order": null,
      "overflow": null,
      "overflow_x": null,
      "overflow_y": null,
      "padding": null,
      "right": null,
      "top": null,
      "visibility": null,
      "width": null
     }
    },
    "d14cc0e578ff48c9af07772ed0c3ee69": {
     "model_module": "@jupyter-widgets/controls",
     "model_module_version": "1.5.0",
     "model_name": "IntProgressModel",
     "state": {
      "_dom_classes": [],
      "_model_module": "@jupyter-widgets/controls",
      "_model_module_version": "1.5.0",
      "_model_name": "IntProgressModel",
      "_view_count": null,
      "_view_module": "@jupyter-widgets/controls",
      "_view_module_version": "1.5.0",
      "_view_name": "ProgressView",
      "bar_style": "",
      "description": "Processing: ",
      "description_tooltip": null,
      "layout": "IPY_MODEL_337deb9485024f4b82fcd26e0902c09d",
      "max": 4,
      "min": 0,
      "orientation": "horizontal",
      "style": "IPY_MODEL_4e423dfd1033418583d48fc4ebc6bd90",
      "value": 4
     }
    },
    "d6cd7181ef8841c2adc5a59d4cac3e23": {
     "model_module": "@jupyter-widgets/controls",
     "model_module_version": "1.5.0",
     "model_name": "IntProgressModel",
     "state": {
      "_dom_classes": [],
      "_model_module": "@jupyter-widgets/controls",
      "_model_module_version": "1.5.0",
      "_model_name": "IntProgressModel",
      "_view_count": null,
      "_view_module": "@jupyter-widgets/controls",
      "_view_module_version": "1.5.0",
      "_view_name": "ProgressView",
      "bar_style": "",
      "description": "Processing: ",
      "description_tooltip": null,
      "layout": "IPY_MODEL_6a94ef156dfc44e8be02323ac2132cdb",
      "max": 7,
      "min": 0,
      "orientation": "horizontal",
      "style": "IPY_MODEL_f9c3990f7d8c4406ad5caddb195f13e5",
      "value": 7
     }
    },
    "dc7b4f910e734271a400e4b6e17cc0c9": {
     "model_module": "@jupyter-widgets/base",
     "model_module_version": "1.2.0",
     "model_name": "LayoutModel",
     "state": {
      "_model_module": "@jupyter-widgets/base",
      "_model_module_version": "1.2.0",
      "_model_name": "LayoutModel",
      "_view_count": null,
      "_view_module": "@jupyter-widgets/base",
      "_view_module_version": "1.2.0",
      "_view_name": "LayoutView",
      "align_content": null,
      "align_items": null,
      "align_self": null,
      "border": null,
      "bottom": null,
      "display": null,
      "flex": null,
      "flex_flow": null,
      "grid_area": null,
      "grid_auto_columns": null,
      "grid_auto_flow": null,
      "grid_auto_rows": null,
      "grid_column": null,
      "grid_gap": null,
      "grid_row": null,
      "grid_template_areas": null,
      "grid_template_columns": null,
      "grid_template_rows": null,
      "height": null,
      "justify_content": null,
      "justify_items": null,
      "left": null,
      "margin": null,
      "max_height": null,
      "max_width": null,
      "min_height": null,
      "min_width": null,
      "object_fit": null,
      "object_position": null,
      "order": null,
      "overflow": null,
      "overflow_x": null,
      "overflow_y": null,
      "padding": null,
      "right": null,
      "top": null,
      "visibility": null,
      "width": null
     }
    },
    "e8337097dee14f6392d81baf2475e647": {
     "model_module": "@jupyter-widgets/controls",
     "model_module_version": "1.5.0",
     "model_name": "ProgressStyleModel",
     "state": {
      "_model_module": "@jupyter-widgets/controls",
      "_model_module_version": "1.5.0",
      "_model_name": "ProgressStyleModel",
      "_view_count": null,
      "_view_module": "@jupyter-widgets/base",
      "_view_module_version": "1.2.0",
      "_view_name": "StyleView",
      "bar_color": null,
      "description_width": ""
     }
    },
    "f9c3990f7d8c4406ad5caddb195f13e5": {
     "model_module": "@jupyter-widgets/controls",
     "model_module_version": "1.5.0",
     "model_name": "ProgressStyleModel",
     "state": {
      "_model_module": "@jupyter-widgets/controls",
      "_model_module_version": "1.5.0",
      "_model_name": "ProgressStyleModel",
      "_view_count": null,
      "_view_module": "@jupyter-widgets/base",
      "_view_module_version": "1.2.0",
      "_view_name": "StyleView",
      "bar_color": null,
      "description_width": ""
     }
    }
   }
  }
 },
 "nbformat": 4,
 "nbformat_minor": 5
}
